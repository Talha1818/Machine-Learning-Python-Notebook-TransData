{
  "nbformat": 4,
  "nbformat_minor": 0,
  "metadata": {
    "colab": {
      "provenance": [],
      "machine_shape": "hm",
      "include_colab_link": true
    },
    "kernelspec": {
      "name": "python3",
      "display_name": "Python 3"
    },
    "language_info": {
      "name": "python"
    },
    "accelerator": "TPU",
    "gpuClass": "standard"
  },
  "cells": [
    {
      "cell_type": "markdown",
      "metadata": {
        "id": "view-in-github",
        "colab_type": "text"
      },
      "source": [
        "<a href=\"https://colab.research.google.com/github/Talha1818/Machine-Learning-Python-Notebooks/blob/master/Text_Generation_with_LSTM_TransData.ipynb\" target=\"_parent\"><img src=\"https://colab.research.google.com/assets/colab-badge.svg\" alt=\"Open In Colab\"/></a>"
      ]
    },
    {
      "cell_type": "code",
      "source": [
        "from google.colab import drive\n",
        "drive.mount('/content/drive')"
      ],
      "metadata": {
        "colab": {
          "base_uri": "https://localhost:8080/"
        },
        "id": "zcreoTV_GhfZ",
        "outputId": "417a6aa7-e94e-43f2-f2e0-40a42f3d0db1"
      },
      "execution_count": null,
      "outputs": [
        {
          "output_type": "stream",
          "name": "stdout",
          "text": [
            "Mounted at /content/drive\n"
          ]
        }
      ]
    },
    {
      "cell_type": "code",
      "source": [
        "from google.colab import files\n",
        "files.upload()"
      ],
      "metadata": {
        "colab": {
          "base_uri": "https://localhost:8080/",
          "height": 90
        },
        "id": "VIXRMGXVTDi9",
        "outputId": "11c3e6a4-31c5-4c83-9188-52271b1bb129"
      },
      "execution_count": null,
      "outputs": [
        {
          "output_type": "display_data",
          "data": {
            "text/plain": [
              "<IPython.core.display.HTML object>"
            ],
            "text/html": [
              "\n",
              "     <input type=\"file\" id=\"files-04b704bc-4ded-415a-b9b7-8163f679a621\" name=\"files[]\" multiple disabled\n",
              "        style=\"border:none\" />\n",
              "     <output id=\"result-04b704bc-4ded-415a-b9b7-8163f679a621\">\n",
              "      Upload widget is only available when the cell has been executed in the\n",
              "      current browser session. Please rerun this cell to enable.\n",
              "      </output>\n",
              "      <script>// Copyright 2017 Google LLC\n",
              "//\n",
              "// Licensed under the Apache License, Version 2.0 (the \"License\");\n",
              "// you may not use this file except in compliance with the License.\n",
              "// You may obtain a copy of the License at\n",
              "//\n",
              "//      http://www.apache.org/licenses/LICENSE-2.0\n",
              "//\n",
              "// Unless required by applicable law or agreed to in writing, software\n",
              "// distributed under the License is distributed on an \"AS IS\" BASIS,\n",
              "// WITHOUT WARRANTIES OR CONDITIONS OF ANY KIND, either express or implied.\n",
              "// See the License for the specific language governing permissions and\n",
              "// limitations under the License.\n",
              "\n",
              "/**\n",
              " * @fileoverview Helpers for google.colab Python module.\n",
              " */\n",
              "(function(scope) {\n",
              "function span(text, styleAttributes = {}) {\n",
              "  const element = document.createElement('span');\n",
              "  element.textContent = text;\n",
              "  for (const key of Object.keys(styleAttributes)) {\n",
              "    element.style[key] = styleAttributes[key];\n",
              "  }\n",
              "  return element;\n",
              "}\n",
              "\n",
              "// Max number of bytes which will be uploaded at a time.\n",
              "const MAX_PAYLOAD_SIZE = 100 * 1024;\n",
              "\n",
              "function _uploadFiles(inputId, outputId) {\n",
              "  const steps = uploadFilesStep(inputId, outputId);\n",
              "  const outputElement = document.getElementById(outputId);\n",
              "  // Cache steps on the outputElement to make it available for the next call\n",
              "  // to uploadFilesContinue from Python.\n",
              "  outputElement.steps = steps;\n",
              "\n",
              "  return _uploadFilesContinue(outputId);\n",
              "}\n",
              "\n",
              "// This is roughly an async generator (not supported in the browser yet),\n",
              "// where there are multiple asynchronous steps and the Python side is going\n",
              "// to poll for completion of each step.\n",
              "// This uses a Promise to block the python side on completion of each step,\n",
              "// then passes the result of the previous step as the input to the next step.\n",
              "function _uploadFilesContinue(outputId) {\n",
              "  const outputElement = document.getElementById(outputId);\n",
              "  const steps = outputElement.steps;\n",
              "\n",
              "  const next = steps.next(outputElement.lastPromiseValue);\n",
              "  return Promise.resolve(next.value.promise).then((value) => {\n",
              "    // Cache the last promise value to make it available to the next\n",
              "    // step of the generator.\n",
              "    outputElement.lastPromiseValue = value;\n",
              "    return next.value.response;\n",
              "  });\n",
              "}\n",
              "\n",
              "/**\n",
              " * Generator function which is called between each async step of the upload\n",
              " * process.\n",
              " * @param {string} inputId Element ID of the input file picker element.\n",
              " * @param {string} outputId Element ID of the output display.\n",
              " * @return {!Iterable<!Object>} Iterable of next steps.\n",
              " */\n",
              "function* uploadFilesStep(inputId, outputId) {\n",
              "  const inputElement = document.getElementById(inputId);\n",
              "  inputElement.disabled = false;\n",
              "\n",
              "  const outputElement = document.getElementById(outputId);\n",
              "  outputElement.innerHTML = '';\n",
              "\n",
              "  const pickedPromise = new Promise((resolve) => {\n",
              "    inputElement.addEventListener('change', (e) => {\n",
              "      resolve(e.target.files);\n",
              "    });\n",
              "  });\n",
              "\n",
              "  const cancel = document.createElement('button');\n",
              "  inputElement.parentElement.appendChild(cancel);\n",
              "  cancel.textContent = 'Cancel upload';\n",
              "  const cancelPromise = new Promise((resolve) => {\n",
              "    cancel.onclick = () => {\n",
              "      resolve(null);\n",
              "    };\n",
              "  });\n",
              "\n",
              "  // Wait for the user to pick the files.\n",
              "  const files = yield {\n",
              "    promise: Promise.race([pickedPromise, cancelPromise]),\n",
              "    response: {\n",
              "      action: 'starting',\n",
              "    }\n",
              "  };\n",
              "\n",
              "  cancel.remove();\n",
              "\n",
              "  // Disable the input element since further picks are not allowed.\n",
              "  inputElement.disabled = true;\n",
              "\n",
              "  if (!files) {\n",
              "    return {\n",
              "      response: {\n",
              "        action: 'complete',\n",
              "      }\n",
              "    };\n",
              "  }\n",
              "\n",
              "  for (const file of files) {\n",
              "    const li = document.createElement('li');\n",
              "    li.append(span(file.name, {fontWeight: 'bold'}));\n",
              "    li.append(span(\n",
              "        `(${file.type || 'n/a'}) - ${file.size} bytes, ` +\n",
              "        `last modified: ${\n",
              "            file.lastModifiedDate ? file.lastModifiedDate.toLocaleDateString() :\n",
              "                                    'n/a'} - `));\n",
              "    const percent = span('0% done');\n",
              "    li.appendChild(percent);\n",
              "\n",
              "    outputElement.appendChild(li);\n",
              "\n",
              "    const fileDataPromise = new Promise((resolve) => {\n",
              "      const reader = new FileReader();\n",
              "      reader.onload = (e) => {\n",
              "        resolve(e.target.result);\n",
              "      };\n",
              "      reader.readAsArrayBuffer(file);\n",
              "    });\n",
              "    // Wait for the data to be ready.\n",
              "    let fileData = yield {\n",
              "      promise: fileDataPromise,\n",
              "      response: {\n",
              "        action: 'continue',\n",
              "      }\n",
              "    };\n",
              "\n",
              "    // Use a chunked sending to avoid message size limits. See b/62115660.\n",
              "    let position = 0;\n",
              "    do {\n",
              "      const length = Math.min(fileData.byteLength - position, MAX_PAYLOAD_SIZE);\n",
              "      const chunk = new Uint8Array(fileData, position, length);\n",
              "      position += length;\n",
              "\n",
              "      const base64 = btoa(String.fromCharCode.apply(null, chunk));\n",
              "      yield {\n",
              "        response: {\n",
              "          action: 'append',\n",
              "          file: file.name,\n",
              "          data: base64,\n",
              "        },\n",
              "      };\n",
              "\n",
              "      let percentDone = fileData.byteLength === 0 ?\n",
              "          100 :\n",
              "          Math.round((position / fileData.byteLength) * 100);\n",
              "      percent.textContent = `${percentDone}% done`;\n",
              "\n",
              "    } while (position < fileData.byteLength);\n",
              "  }\n",
              "\n",
              "  // All done.\n",
              "  yield {\n",
              "    response: {\n",
              "      action: 'complete',\n",
              "    }\n",
              "  };\n",
              "}\n",
              "\n",
              "scope.google = scope.google || {};\n",
              "scope.google.colab = scope.google.colab || {};\n",
              "scope.google.colab._files = {\n",
              "  _uploadFiles,\n",
              "  _uploadFilesContinue,\n",
              "};\n",
              "})(self);\n",
              "</script> "
            ]
          },
          "metadata": {}
        },
        {
          "output_type": "stream",
          "name": "stdout",
          "text": [
            "Saving kaggle.json to kaggle.json\n"
          ]
        },
        {
          "output_type": "execute_result",
          "data": {
            "text/plain": [
              "{'kaggle.json': b'{\"username\":\"talha1818\",\"key\":\"18ec00ea572d40f57d9d23565ce7cc2b\"}'}"
            ]
          },
          "metadata": {},
          "execution_count": 1
        }
      ]
    },
    {
      "cell_type": "code",
      "source": [
        "!mkdir /root/.kaggle\n",
        "!mv kaggle.json /root/.kaggle/\n",
        "!chmod 600 /root/.kaggle/kaggle.json"
      ],
      "metadata": {
        "id": "pXQslXlzTEVb"
      },
      "execution_count": null,
      "outputs": []
    },
    {
      "cell_type": "code",
      "source": [
        "!kaggle datasets download -d aashita/nyt-comments"
      ],
      "metadata": {
        "colab": {
          "base_uri": "https://localhost:8080/"
        },
        "id": "w55NMCafTEYW",
        "outputId": "d1854af1-d371-4319-c32a-ac4c61bebae9"
      },
      "execution_count": null,
      "outputs": [
        {
          "output_type": "stream",
          "name": "stdout",
          "text": [
            "Downloading nyt-comments.zip to /content\n",
            " 96% 460M/480M [00:03<00:00, 204MB/s]\n",
            "100% 480M/480M [00:03<00:00, 145MB/s]\n"
          ]
        }
      ]
    },
    {
      "cell_type": "code",
      "source": [
        "!unzip /content/nyt-comments.zip"
      ],
      "metadata": {
        "colab": {
          "base_uri": "https://localhost:8080/"
        },
        "id": "ibyMGh9YTEbh",
        "outputId": "dadc7748-fdac-4790-b273-21cb6aa5be60"
      },
      "execution_count": null,
      "outputs": [
        {
          "output_type": "stream",
          "name": "stdout",
          "text": [
            "Archive:  /content/nyt-comments.zip\n",
            "  inflating: ArticlesApril2017.csv   \n",
            "  inflating: ArticlesApril2018.csv   \n",
            "  inflating: ArticlesFeb2017.csv     \n",
            "  inflating: ArticlesFeb2018.csv     \n",
            "  inflating: ArticlesJan2017.csv     \n",
            "  inflating: ArticlesJan2018.csv     \n",
            "  inflating: ArticlesMarch2017.csv   \n",
            "  inflating: ArticlesMarch2018.csv   \n",
            "  inflating: ArticlesMay2017.csv     \n",
            "  inflating: CommentsApril2017.csv   \n",
            "  inflating: CommentsApril2018.csv   \n",
            "  inflating: CommentsFeb2017.csv     \n",
            "  inflating: CommentsFeb2018.csv     \n",
            "  inflating: CommentsJan2017.csv     \n",
            "  inflating: CommentsJan2018.csv     \n",
            "  inflating: CommentsMarch2017.csv   \n",
            "  inflating: CommentsMarch2018.csv   \n",
            "  inflating: CommentsMay2017.csv     \n"
          ]
        }
      ]
    },
    {
      "cell_type": "code",
      "execution_count": null,
      "metadata": {
        "id": "urw1JYCGI9rR"
      },
      "outputs": [],
      "source": [
        "import pandas as pd\n",
        "import numpy as np\n",
        "import string, os\n",
        "import warnings\n",
        "warnings.filterwarnings(\"ignore\")\n",
        "warnings.simplefilter(action='ignore', category=FutureWarning)"
      ]
    },
    {
      "cell_type": "code",
      "source": [
        "# set seeds for reproducability\n",
        "# from tensorflow import seed\n",
        "from numpy.random import seed\n",
        "# set_random_seed(2)\n",
        "seed(1)\n",
        "# keras module for building LSTM \n",
        "from tensorflow.keras.preprocessing.sequence import pad_sequences\n",
        "from keras.layers import Embedding, LSTM, Dense, Dropout\n",
        "from keras.preprocessing.text import Tokenizer\n",
        "from keras.callbacks import EarlyStopping\n",
        "from keras.models import Sequential\n",
        "import keras.utils as ku"
      ],
      "metadata": {
        "id": "TNQidf_jKayu"
      },
      "execution_count": null,
      "outputs": []
    },
    {
      "cell_type": "code",
      "source": [
        "# Loading the all headlines as a list \n",
        "curr_dir = '/content/'\n",
        "all_headlines = []\n",
        "for filename in os.listdir(curr_dir):\n",
        "    if 'Articles' in filename:\n",
        "        article_df = pd.read_csv(curr_dir + filename)\n",
        "        all_headlines.extend(list(article_df.headline.values))\n",
        "        break\n",
        "all_headlines = [line for line in all_headlines if line!= \"Unknown\"]\n",
        "print(all_headlines[:10])"
      ],
      "metadata": {
        "colab": {
          "base_uri": "https://localhost:8080/"
        },
        "id": "sy-E6OlwKeXO",
        "outputId": "119208f8-673a-42b0-eaa2-483642f50233"
      },
      "execution_count": null,
      "outputs": [
        {
          "output_type": "stream",
          "name": "stdout",
          "text": [
            "['I Stand  With the ‘She-Devils’', 'Trump’s Birth Control Problems', 'What’s the Craziest Thing You’ve Ever Found in a Xerox Machine?', 'U.S. Allies’ Conflict Is ISIS’ Gain', '$1.5 Trillion Plan on Infrastructure, but Not a Lot of Funding or Details', 'Mueller Zeros In on a Trump Tower Cover Story', ' With Speech, A ‘Dreamers’ Rift Deepens', 'At the Start', '‘The Assassination of Gianni Versace’ Episode 3: Death or Disgrace?', 'Britain’s Model for Outsourcing Services May Be Cracking']\n"
          ]
        }
      ]
    },
    {
      "cell_type": "code",
      "source": [
        "len(all_headlines)"
      ],
      "metadata": {
        "colab": {
          "base_uri": "https://localhost:8080/"
        },
        "id": "s-n2AdhAV4Yc",
        "outputId": "1e3a879b-3f1e-4597-9b28-3f88664c4c8f"
      },
      "execution_count": null,
      "outputs": [
        {
          "output_type": "execute_result",
          "data": {
            "text/plain": [
              "1066"
            ]
          },
          "metadata": {},
          "execution_count": 12
        }
      ]
    },
    {
      "cell_type": "code",
      "source": [
        "CURRENT_FILENAME = 'Text_dataset_27Feb_Merge_with_21Feb'\n",
        "df = pd.read_csv(f\"/content/drive/MyDrive/Annotation Folder/{CURRENT_FILENAME}.csv\")\n",
        "\n",
        "df_two = df[df['target'].isin(['15'])]\n",
        "\n",
        "df_two['target'] = df_two['target'].map({\"15\":\"MORTAGE\"})\n",
        "df_two.head()"
      ],
      "metadata": {
        "colab": {
          "base_uri": "https://localhost:8080/",
          "height": 206
        },
        "id": "nkd8OvBZfmzw",
        "outputId": "f94d808b-1f21-45f4-ac55-267e1b916140"
      },
      "execution_count": null,
      "outputs": [
        {
          "output_type": "execute_result",
          "data": {
            "text/plain": [
              "    serial_number                                               data state  \\\n",
              "0           16070  HAD DONFIELD - CITY ABSTRACT, L 1 LBS 1 OF 1\\n...    NJ   \n",
              "1           16071  re ‘epee (o| {253 / PNCBAD i c 3-5/310\\noe G P...    NJ   \n",
              "28          16098  g varanteed a,\\n|\\nCLOSING AND FUNDING INSTRUC...    NJ   \n",
              "29          16099  CERTIFIED COPY AND ORIGINAL CLOSING DISCLOSURE...    NJ   \n",
              "30          16100  failure to properly complete and provide the N...    NJ   \n",
              "\n",
              "    county   target  \n",
              "0   camden  MORTAGE  \n",
              "1   camden  MORTAGE  \n",
              "28  camden  MORTAGE  \n",
              "29  camden  MORTAGE  \n",
              "30  camden  MORTAGE  "
            ],
            "text/html": [
              "\n",
              "  <div id=\"df-91d4d95c-242d-4e01-a713-2523802c74a4\">\n",
              "    <div class=\"colab-df-container\">\n",
              "      <div>\n",
              "<style scoped>\n",
              "    .dataframe tbody tr th:only-of-type {\n",
              "        vertical-align: middle;\n",
              "    }\n",
              "\n",
              "    .dataframe tbody tr th {\n",
              "        vertical-align: top;\n",
              "    }\n",
              "\n",
              "    .dataframe thead th {\n",
              "        text-align: right;\n",
              "    }\n",
              "</style>\n",
              "<table border=\"1\" class=\"dataframe\">\n",
              "  <thead>\n",
              "    <tr style=\"text-align: right;\">\n",
              "      <th></th>\n",
              "      <th>serial_number</th>\n",
              "      <th>data</th>\n",
              "      <th>state</th>\n",
              "      <th>county</th>\n",
              "      <th>target</th>\n",
              "    </tr>\n",
              "  </thead>\n",
              "  <tbody>\n",
              "    <tr>\n",
              "      <th>0</th>\n",
              "      <td>16070</td>\n",
              "      <td>HAD DONFIELD - CITY ABSTRACT, L 1 LBS 1 OF 1\\n...</td>\n",
              "      <td>NJ</td>\n",
              "      <td>camden</td>\n",
              "      <td>MORTAGE</td>\n",
              "    </tr>\n",
              "    <tr>\n",
              "      <th>1</th>\n",
              "      <td>16071</td>\n",
              "      <td>re ‘epee (o| {253 / PNCBAD i c 3-5/310\\noe G P...</td>\n",
              "      <td>NJ</td>\n",
              "      <td>camden</td>\n",
              "      <td>MORTAGE</td>\n",
              "    </tr>\n",
              "    <tr>\n",
              "      <th>28</th>\n",
              "      <td>16098</td>\n",
              "      <td>g varanteed a,\\n|\\nCLOSING AND FUNDING INSTRUC...</td>\n",
              "      <td>NJ</td>\n",
              "      <td>camden</td>\n",
              "      <td>MORTAGE</td>\n",
              "    </tr>\n",
              "    <tr>\n",
              "      <th>29</th>\n",
              "      <td>16099</td>\n",
              "      <td>CERTIFIED COPY AND ORIGINAL CLOSING DISCLOSURE...</td>\n",
              "      <td>NJ</td>\n",
              "      <td>camden</td>\n",
              "      <td>MORTAGE</td>\n",
              "    </tr>\n",
              "    <tr>\n",
              "      <th>30</th>\n",
              "      <td>16100</td>\n",
              "      <td>failure to properly complete and provide the N...</td>\n",
              "      <td>NJ</td>\n",
              "      <td>camden</td>\n",
              "      <td>MORTAGE</td>\n",
              "    </tr>\n",
              "  </tbody>\n",
              "</table>\n",
              "</div>\n",
              "      <button class=\"colab-df-convert\" onclick=\"convertToInteractive('df-91d4d95c-242d-4e01-a713-2523802c74a4')\"\n",
              "              title=\"Convert this dataframe to an interactive table.\"\n",
              "              style=\"display:none;\">\n",
              "        \n",
              "  <svg xmlns=\"http://www.w3.org/2000/svg\" height=\"24px\"viewBox=\"0 0 24 24\"\n",
              "       width=\"24px\">\n",
              "    <path d=\"M0 0h24v24H0V0z\" fill=\"none\"/>\n",
              "    <path d=\"M18.56 5.44l.94 2.06.94-2.06 2.06-.94-2.06-.94-.94-2.06-.94 2.06-2.06.94zm-11 1L8.5 8.5l.94-2.06 2.06-.94-2.06-.94L8.5 2.5l-.94 2.06-2.06.94zm10 10l.94 2.06.94-2.06 2.06-.94-2.06-.94-.94-2.06-.94 2.06-2.06.94z\"/><path d=\"M17.41 7.96l-1.37-1.37c-.4-.4-.92-.59-1.43-.59-.52 0-1.04.2-1.43.59L10.3 9.45l-7.72 7.72c-.78.78-.78 2.05 0 2.83L4 21.41c.39.39.9.59 1.41.59.51 0 1.02-.2 1.41-.59l7.78-7.78 2.81-2.81c.8-.78.8-2.07 0-2.86zM5.41 20L4 18.59l7.72-7.72 1.47 1.35L5.41 20z\"/>\n",
              "  </svg>\n",
              "      </button>\n",
              "      \n",
              "  <style>\n",
              "    .colab-df-container {\n",
              "      display:flex;\n",
              "      flex-wrap:wrap;\n",
              "      gap: 12px;\n",
              "    }\n",
              "\n",
              "    .colab-df-convert {\n",
              "      background-color: #E8F0FE;\n",
              "      border: none;\n",
              "      border-radius: 50%;\n",
              "      cursor: pointer;\n",
              "      display: none;\n",
              "      fill: #1967D2;\n",
              "      height: 32px;\n",
              "      padding: 0 0 0 0;\n",
              "      width: 32px;\n",
              "    }\n",
              "\n",
              "    .colab-df-convert:hover {\n",
              "      background-color: #E2EBFA;\n",
              "      box-shadow: 0px 1px 2px rgba(60, 64, 67, 0.3), 0px 1px 3px 1px rgba(60, 64, 67, 0.15);\n",
              "      fill: #174EA6;\n",
              "    }\n",
              "\n",
              "    [theme=dark] .colab-df-convert {\n",
              "      background-color: #3B4455;\n",
              "      fill: #D2E3FC;\n",
              "    }\n",
              "\n",
              "    [theme=dark] .colab-df-convert:hover {\n",
              "      background-color: #434B5C;\n",
              "      box-shadow: 0px 1px 3px 1px rgba(0, 0, 0, 0.15);\n",
              "      filter: drop-shadow(0px 1px 2px rgba(0, 0, 0, 0.3));\n",
              "      fill: #FFFFFF;\n",
              "    }\n",
              "  </style>\n",
              "\n",
              "      <script>\n",
              "        const buttonEl =\n",
              "          document.querySelector('#df-91d4d95c-242d-4e01-a713-2523802c74a4 button.colab-df-convert');\n",
              "        buttonEl.style.display =\n",
              "          google.colab.kernel.accessAllowed ? 'block' : 'none';\n",
              "\n",
              "        async function convertToInteractive(key) {\n",
              "          const element = document.querySelector('#df-91d4d95c-242d-4e01-a713-2523802c74a4');\n",
              "          const dataTable =\n",
              "            await google.colab.kernel.invokeFunction('convertToInteractive',\n",
              "                                                     [key], {});\n",
              "          if (!dataTable) return;\n",
              "\n",
              "          const docLinkHtml = 'Like what you see? Visit the ' +\n",
              "            '<a target=\"_blank\" href=https://colab.research.google.com/notebooks/data_table.ipynb>data table notebook</a>'\n",
              "            + ' to learn more about interactive tables.';\n",
              "          element.innerHTML = '';\n",
              "          dataTable['output_type'] = 'display_data';\n",
              "          await google.colab.output.renderOutput(dataTable, element);\n",
              "          const docLink = document.createElement('div');\n",
              "          docLink.innerHTML = docLinkHtml;\n",
              "          element.appendChild(docLink);\n",
              "        }\n",
              "      </script>\n",
              "    </div>\n",
              "  </div>\n",
              "  "
            ]
          },
          "metadata": {},
          "execution_count": 28
        }
      ]
    },
    {
      "cell_type": "code",
      "source": [
        "all_headlines = (df_two['data'] + df_two['target']).tolist()\n",
        "print(all_headlines[:10])"
      ],
      "metadata": {
        "colab": {
          "base_uri": "https://localhost:8080/"
        },
        "id": "ua0ThCv3fm27",
        "outputId": "9fd54feb-379e-46e9-8f66-1229c0591ad4"
      },
      "execution_count": null,
      "outputs": [
        {
          "output_type": "stream",
          "name": "stdout",
          "text": [
            "['HAD DONFIELD - CITY ABSTRACT, L 1 LBS 1 OF 1\\nBASH aonon avec Dw 12.10.\\nSHIP. TO:\\n562401735\\n\\nGUARANTEED RATE INC\\n\\n1806 WEST CUYLER AVENUE\\n\\nSUITE 1W\\n\\nCHICAGO IL 60613\\n\\navrn*:| IL 606 9-06\\n\\n° o =\\npy thy\\n7 *\\nBILLING: P/P\\nXOL 22.01.28 NV45 8.04 02/2022* ™\\n\\x0cMORTAGE', 're ‘epee (o| {253 / PNCBAD i c 3-5/310\\noe G PNC Bank, National Association No. ° 0 0 1 3 3 9\\nCASHIER’S CHECK _ Philadelphia, PA pATEREBRURRY La Dre?\\nPAY TO THE seri neers : . . ny Pre\\norpEROF Lilt ABSTRALT, LOE\\nTHIRTY OWE THOUSAND FIVE MINDRED TAREE GN) 78 | JRE poe seme\\nELIZA MH STAST t ) :\\n. Te OREMITTER Os p q VAs ociation\\n. 7 Y -_\\nMEA\\nESC set c101537 , } OFFICIN\\nwoooa33sgm 8O3~0000538 850004354 cu S\\ni\\n\\x0cMORTAGE', 'g varanteed a,\\n|\\nCLOSING AND FUNDING INSTRUCTIONS FROM GUARANTEED RATE, INC. |\\n|\\nGuaranteed Rate Loan Number 224134165 00 |\\nPrimary Borrower Last Name Stasi |\\nPrimary Borrower First Name Eliza\\nProperty Street Address 332 MARNE AVE 000\\nCity HADDONFIELD\\nState, Zip NEW JERSEY, 08033\\nLoan Amount 386, 650.00 Document Date FEBRUARY 15, 2022\\nLoan Type CONVENTIONAL Closing Date EEBRUARY 15, 2022\\nProduct ALL FIXED LOANS Disbursement FEBRUARY 15, 2022\\nLoan Term 360 Months Order Number CAHD-611253\\nInterest Rate 3.500 Escrow Number CAHD~611253 000\\nOrder Number ———————__@JJ_____\\nGuaranteed Rate Closer Angela Allen 0000\\nPhone Number _(609) 294-4326\\nFax Number (872) 808-1469 00\\nEmail Address Angela.Allen@rate.com\\nEXECUTION OF DOCUMENTS\\n1. Each Borrower must sign all documents exactly as his or her name appears on the blank line provided for his or her\\nsignature, You must witness all Signatures All signature acknowledgments must be executed by a person authorized\\nto take acknowledgments in the state of closing. For the purposes of this instruction, \"you\" means the settlement agent,\\naltorney, or escrow agent and may include an independent contractor providing services for you for the purposes of\\nwitnessing/notarizing signatures. You must warrant all work conducted by any individual providing services on your\\nbehalf and hereby agree to indemnify, defend and hold Guaranteed Rate harmless against wrongdoing committed by such\\nindividual/entity. Flash Close: GRI requires you to witness all ink sign documents.\\n2. Any correction to loan documents must be approved in writing by us in advance. No white-out permitted. Approved\\ndeletions should be made by marking a single line through the language being deleted. All additions and deletions must\\nbe initialed by all Borrowers.\\n3. All Powers of Attorney must be provided to and approved by us in advance. If approved, the Power of Attorney must\\nbe recorded in the same county in which the Security Instrument is recorded and a certified copy provided to us.\\nGENERAL CLOSING REQUIREMENTS\\nDISBURSEMENTS TO THE SELLER SIDE OF THE CLOSING DISCLOSURE\\nAny disbursement on the seller’ s side of the Closing Disclosure greater than $5,000 (not lien related as documented in the\\nmarked up Preliminary Title Commitment or for standard closing costs) must be documented in writing by the seller and\\napproved by the Guaranteed Rate Underwriter. Real estate commissions not to exceed standard commission rate in market area\\nor no more than 8% of purchase price. Any payout that is not reflected on the Closing Disclosure is not permitted.\\nPurchase Price on the Closing Disclosure cannot be different from loan approval or sales contract. If the sales price is different\\nfrom what is noted on the Closing Disclosure furnished by Guaranteed Rate, the Borrower\\'s approval is no longer valid and\\nmust be re-approved by Guaranteed Rate.\\nRESCISSION\\nNo Borrower or other person having an ownership interest in the security property may modify or waive his or her right to\\nrescind without our prior written consent. If any Borrower or other person having an ownership interest in the security property\\nindicates that he or she wishes to cancel this transaction, you are required to contact us immediately for further instructions.\\nCLOSING AND FUNDING tNSTRUCTIONS - HYBRID LOANS \"\\nCFIHL3.CST 12/09/21 Page 1 of 4 %DocMagic\\n\\x0cMORTAGE', 'CERTIFIED COPY AND ORIGINAL CLOSING DISCLOSURE\\n\\nYou must _use the Closing Disclosure provided by Guaranteed Rate. Any changes or corrections must be approved by\\n\\nGuaranteed Rate. Closing Disclosures completed by the agent will not be accepted. Fax or e-mail the certified copy of the Final\\n\\nClosing Disclosure to the Guaranteed Rate Closer the same day as closing/disbursement {in escrow states). Return the original |\\n\\nFinal Closing Disclosure with the Closing Package within | Business Day of closing/ disbursement (in escrow states). Flash |‘\\n\\nClose: Borrower may e-sign final lender CD. GRI closer will forward final signed lender CD to the settlement agent. Any\\n\\nchanges at the table will require a new final CD to be ink-signed. |\\n\\nSURVEY\\n\\nA valid survey dated within 90 days of closing is required in areas where surveys are customary. The survey must contain all\\n\\nrelevant and customary information and certifications and the legal description, lot size and street must agree with the appraisal\\n\\nand closing documents.\\n\\nINSURANCE COVERAGE\\n\\n1. Title Insurance: Title Insurance coverage and vesting must be written under the same terms and conditions as the marked.\\nup Preliminary Title Commitment (or Preliminary Report) previously provided 1o Guaranteed Rate. This loan must\\nrecord in first lien position (unless otherwise stated) on or prior to the disbursement date. The Title Policy must contain\\nthe endorsements as shown in the Marked up Preliminary Title Commitment (or Preliminary Report) previously\\nprovided to Guaranteed Rate. The ALTA Title Policy must be free from liens, encumbrances, easements, encroachments\\nand other title matters except: (i) the lien of our loan in the amount of our Joan on the property described herein showing,\\nthe Instrument or Document Number and the date of recording of the Security Instrument; (ii) general, specific, state,\\ncounty, city, school or other taxes and assessments not yet due or payable; and (iii) other items as noted in the\\nGuaranteed Rate funding requirements worksheet. Title Policy must contain the following endorsements:\\n\\nComp, EPA, LOC\\n\\nTitle Policy must contain the following endorsements on every loan: Comprehensive (COMP/ALTA 9/FL FORM 9),\\nEnvironmental (EPA/EPL/8. |), Location (for purchases but can be removed if we have a Survey, Condo, or PUD). The\\nfollowing property type endorsements are required if there is a matching rider PUD (ALTA 5), CONDO (ALTA 4),\\nLEASEHOLD (ALTA 13) or MANUFACTURED HOUSING (ALTA 7). ARM (ALTA 6) endorsements are required\\nis the product is an ARM(adjustable rate mortgage) and has an ARM rider. Properties in Texas require a T-19\\nendorsement without deletions.\\n\\n2. Loss payee/mortgagee clause for all required insurance to read: Guaranteed Rate, ISAQA, Attn: Servicing Dept., 3940\\nNorth Ravenswood. Chicago, IL 60613.\\n\\nPAYOFF REQUIREMENTS (if applicable)\\n\\nIt is a condition to the funding of this loan that the following payoffs be made through this closing:\\n\\nProof of payoff must be shown on the Closing Disclosure and the attached Disbursement Sheet. Any other proof will require\\n\\nseview by our Underwriter and may delay closing and funding. Settlement Agent cannot rely on approximate numbers above\\n\\nfor payoff. Settlement Agent must refer to attached payoff statements from lenders for the proper calculation of the payoff\\namount(s).\\nFUNDING CONDITIONS\\n\\nAll of the instructions and conditions set forth herein must be correctly completed, and this Agreement signed by all relevant\\n\\nparties. prior to requesting any funding authorization from Guaranteed Rate.\\n\\nFax or email the Preliminary Closing Disclosure to the Guaranteed Rate Closer shown on Page | for our approval. Upon\\n\\napproval of the Preliminary Closing Disclosure, Guaranteed Rate will email the FINAL CD for the Borrower(s) review and\\n\\nsignature. The Preliminary CD MUST reflect ALL fees that will be on the Final CD. If fees are added or removed from the\\n\\nPreliminary Closing Disclosure, a new CD will need to be generated and it will cause a delay in funding.\\n\\nDELIVERY OF CLOSING PACKAGE TO BORROWER(S) AND TO GUARANTEED RATE\\n\\n1. One (1) copy of the signed Closing Package is required to be provided to and received by, the Borrower(s) on the same\\nday as the funding of the loan. On loans subject to the Right to Cancel, one (1) copy of the signed Closing Package,\\nincluding two (2) signed copies of the Notice of Right to Cancel, is required to be provided to, and received by, the\\nBorrower(s) on the same day as the signing of the documents in the Closing Package. Flash Close: Settlement agent to\\nprovide only ink signed copies to borrower on the same day as funding of the loan.\\n\\n2. If the transaction is subject to rescission, provide each Borrower and each person having any ownership interest in the\\nproperty as noted on the rescission notice (including any non-titled spouse, if applicable), with two (2) copies of the\\ncompleted Notice of Right to Cancel and Closing Disclosure. The Notice of Right to Cancel must be properly completed\\n(including all dates) and each Borrower and person given two notices must execute an acknowledgment of receipt. Your\\n\\nGLOSING AND FUNDING INSTRUCTIONS - HYBRID LOANS page 2 of 4 %&DocMagic\\n\\nne\\n\\x0cMORTAGE', 'failure to properly complete and provide the Notices of Right to Cancel to each person entitled to receive them will delay\\nthis closing and will subject you to any and all liability, whether present or future, stemming from such failure.\\n\\n3. All documents with the exception of those to be recorded (Security Instrument, Riders, Corporation Assignment(s), Grant\\nDeed, Quit Claim. Power of Attorney, etc.) must be returned via overnight mail or via same day courier service to:\\n\\nFlash Close: Ink signed documents to be overnighted or returned via same day courier service to:\\nGuaranteed Rate, Inc. .\\n\\n1806 W. Cuyler Avenue, Suite 1W\\n\\nChicago, IL60613-2541\\n\\nwithin 1 Business Day of the signing.\\n\\nYou understand that any delay in returning the above-mentioned documents in the time proscribed may result in actual\\nfees and expense imposed upon Guaranteed Rate by a third party. You acknowledge that you will be liable for all actual\\ncosts/losses incurred as a result of your failure to return the documents within the time proscribed. We require certified\\ncopies of all documents that are to be recorded. You must attach the legal description to all recordable documents.\\n\\nCONTACT GUARANTEED RATE FOR FUNDING AUTHORIZATION\\n\\nContact the Guaranteed Rate Closer for the Funding Authorization Number prior to disbursement of funds. Guaranteed |\\n\\nRate\\'s wire cut-off time is 12 p.m. NOON Central Standard Time. You are NOT authorized to disburse funds without\\n\\nGuaranteed Rate providing you with our Funding Number for this transaction. If this loan disburses without Guaranteed Rate’ s\\n\\nauthorization, you agree to pay actual costs/losses incurred by Guaranteed Rate which could be up to, or exceed, the amounts :\\n\\nof the loans involved in this transaction. Enter the Guaranteed Rate Funding Authorization # you received here:\\n\\nIN THE EVENT OF A CLOSING CANCELLATION WHERE FUNDS MUST BE RETURNED TO\\n\\nGUARANTEED RATE\\n\\nPlease contact your Guaranteed Rate Closer via phone and verify return wire instructions prior to sending funds back to\\n\\nGuaranteed Rate. This step must be completed for fraud prevention purposes.\\n\\nADDITIONAL REPRESENTATIONS AND WARRANTIES\\n\\n1. All duties and obligations detailed in this Agreement are specifically and solely the responsibility of the Settlement Agent\\nand cannot be performed by, or assigned to, any other individual or entity without the prior written consent of\\nGuaranteed Rate.\\n\\n2. By signing below, you represent and warrant that you currently have the authority to act in this capacity by all parties\\nto the transaction, including but not limited to, the national title insurance underwriter identified in the previously\\nsubmitted title commitment (or Preliminary Report) and closing protection letter.\\n\\n3. By signing below, you represent and warrant that all duties and obligations described herein, and any supplemental\\nclosing instructions, have been faithfully and fully performed and satisfied by you. Should you fail to fully perform or\\nsatisfy any duties and obligations stated herein, you will be responsible for any and all liability, loss, damages or\\notherwise resulting from, or in any way related to, such failure. Notwithstanding the foregoing, you shail not be liable\\nfor any special, exemplary, consequential, or punitive damages. No amount of subsequent review or due diligence\\nconducted by Guaranteed Rate, the Borrower or any other party will relieve you from your duties and obligations\\ndetailed in these, and any supplemental, closing instructions or excuse you from any liability associated with your failure\\nto fully comply with and satisfy your duties and obligations.\\n\\n4. This Agreement shall be governed and construed in accordance with the laws of the State of Illinois, without regard to\\nthe conflicts of law provisions thereof. By executing this Agreement, you hereby irrevocably submit to the exclusive\\njurisdiction of the courts of the State of Illinois and federal courts located in Cook County, Illinois, for the purposes\\nof any action or proceeding arising with respect to this Agreement. Furthermore, in the event of litigation, the parties\\nagree to unconditionally waive their rights to a jury trial and this Agreement may be filed as a written consent to such\\nwaiver of a trial by jury.\\n\\n5. In any litigation, arbitration, or other proceeding by which one party either seeks to enforce its rights under this\\nAgreement (whether in contract, tort, or both) or seeks a declaration of any rights or obligations under this Agreement,\\nthe prevailing party shall be awarded is reasonable attorneys’ fees, and costs and expenses incurred.\\n\\nCONTRACT AGREEMENT\\n\\nBy your signature on this document. you hereby agree that this represents a contractual Agreement by and between you and\\n\\nGuaranteed Rate. For the purposes of this agreement, \"you\" means the settlement agent, attorney, or escrow agent and may\\n\\ninclude an independent contractor providing services for you for the purposes of witnessing/notarizing signatures. You hereby\\n\\nacknowledge that the duties owed to Guaranteed Rate pursuant to this Agreement are fiduciary in nature. You hereby\\nacknowledge that you are acting as the Settlement Agent for Guaranteed Rate and, as such, you are responsible for faithfully\\nperforming, and warranting, all of the duties described herein. You are responsible for insuring the compliance with all\\ninstructions provided in this Agreement.\\n\\n|\\nGLOSING AND FUNDING INSTRUCTIONS - HYBRID LOANS. Page 3 of 4 &DocMagic\\n\\x0cMORTAGE', \"This _loan_must not be closed or funded unless ALL conditions _in this Closing and Funding Instructions and any\\nsupplemental closing instructions have been satisfied and funding authorization has been provided by Guaranteed Rate. Do\\nnot close or fund this loan if you have knowledge of a prior, concurrent or subsequent transaction which would transfer title\\nto the subject property or create additional liens on this property not previously disclosed on the Title Commitment (or\\nPreliminary Report). Flash Close: GRI closer to confirm e-sign portion has been completed prior to authorizing disbursement.\\nAs the closing agent, you are hereby notified the funds you receive were advanced from a warehouse bank for the above\\nreferenced loan and the warehouse bank has a security interest in the promissory note, Deed of Trust or Mortgage and all other\\nsupporting documents. In the event the loan does not close or record within 24 business hours of receipt of the wire, all funds |\\nshall be rejected/returned immediately back to the respective warehouse bank from which funds were sent. Guaranteed Rate\\nmust be notified immediately to issue written wire instructions for return of the funds to the appropriate warehouse bank.\\nFor California transactions, State regulations prohibit prepaid interest paid by the Borrower(s) until you have disbursed the\\nmajority of the funds retated to this loan. Furthermore, State regulations and Guaranteed Rate require that the majority of funds\\nbe disbursed within one (1) business day of Guaranteed Rate providing funding authorization - Guaranteed Rate requires that\\nwritten proof of the date that the majority of funds are disbursed. Should those funds not be disbursed within one (1) business\\nday of our Funding Authorization, you agree to you agree to pay actual costs/tosses incurred by Guaranteed Rate that result\\nfrom a delay in the disbursement of funds. Further, if the disbursement does not occur until after a weekend and/or holiday\\nand prepaid interest was paid by the Borrower(s) during the weekend and/or holiday, you will have obtained the Borrower’\\ns written approval on the California Per Diem Disclosure. If you did not obtain written authorization on the California Per\\nDiem Disclosure from the Borrower(s), you ugree to a pay Guaranteed Rate the full amount of unauthorized prepaid interest\\ncharges paid by the Borrower(s) so that Guaranteed Rate may provide the required refund.\\nATTENTION NOTARIES:\\nThe notary is responsible for ensuring that the dates, counties, and states are correct in each notary acknowledgment. This\\npackage may contain documents with notary dates, states, and counties pre-populated. If the borrower signs on a day or in a\\nplace that contradicts the pre-printed information, it is the notary's responsibility to cross out the printed information, write\\nin the correct information, and initial the change.\\nGuaranteed Rate will invoice for any shortages caused by incorrect notary information. Shortages may include but are\\nnot limited to:\\n1. Re-recording fees\\n2. Mobile notary fees for borrower re-atknowledgment\\n2. Warchouse bank curtailments\\n3. Investor lock extensions\\nYOU MUST FOLLOW THESE INSTRUCTIONS EXACTLY AS THEY ARE WRITTEN.\\nThese Closing and Funding Instructions can only be modified by a written instrument prepared and signed by Guaranteed Rate.\\nSETTLEMENT AGENT ACKNOWLEDGMENT\\nBy signing below. I represent and warrant that all duties and obligations described herein, and any supplemental closing\\ninstructions, have been faithfully and fully performed and satisfied. In the event that Guaranteed Rate provides funding\\nauthorization for this loan, such authorization will be subject to, and in reliance upon, my representations and warranties\\ncontained herein.\\nACKNOWLEDGED AND AGREED\\n| cejeerrmareme Mave Z wholt\\nmmo {> Wecwn dl. Oo} 1 Ae\\nSettlement Agent First and Last Name (Must Print Legibly)\\nrureer y Wi rotlarn Phis fee\\nSettlement Agent Signature Date\\nCLOSING AND FUNDING INSTRUCTIONS - HYBRID LOANS i\\nCFIHL3.CST 12/09/21 Page 4 of 4 %DocMagic\\n\\x0cMORTAGE\", 'i\\ney cee as or\\nFADDONAIAD NJ 08033 0 DWT: 12,10,1\\n|\\nSs H\\nHIP ehoassss\\n\\nFAIRWAY INDEPENDENT MORTGAGE CORPOR\\n\\n4201 MARSH LANE\\n\\nCARROLLTON TX 75007\\n\\nmae! TX 752 9-64\\n\\n°. =\\naa ete?\\n: %\\n¥ tyes\\nwat Sey he\\noe Re oh oot x?\\nBILLING: P/P\\n|\\nReference No.1; CAHD-612152 Ese\\nXOL 22.08.10 NV45 34.0A 08/2022*\\n\\x0cMORTAGE', \"A INDEPENDENT MORTGAGE CORPORATION\\nomen | GRE\\n@ 4201 Marsh Lane wG (877)626-5025 support@eoriginal.com\\nCarrollton, TX 75007\\neCLOSING INSTRUCTIONS\\nThese eClosing Instructions are incorporated into and shall be deemed to amend and supplement the\\nSpecific and General Closing Instructions. THE NOTE AND/OR MOST CLOSING DOCUMENTS in this loan\\ntransaction will be executed electronically by the Borrower(s) in a secure digital environment (eClosing), and\\nall the remainder of the closing documents will be printed to paper and wet-signed as per usual.\\nPLEASE FOLLOW THE STEPS OUTLINED BELOW TO BEGIN THE eCLOSING:\\nSTEP 1: GO TO this URL in advance of the closing date:\\nhttps://close.eoriginal.com/closing/ui/welcome/fairway\\nLogin or Register for a free Closing Center account using the Access Your Closing Center button.\\n1m pat o few simple steps. yout not only be on your wey bo tacking and meneginy oll of your digitel dusires. but\\nako dalvaring a better borrowing enperiante - for free.\\nAccess Your Personalized Guest Access,\\nClosing Center\\nVS seteumy Cretes VY spe esque:\\nvo Vo res\\nVY COM poe aus  Contal az ewan ace\\nDuncan meses ol al pr tote cone Wet erarerage a yoo hgad heres\\nA WORE st oad tg 2 ewen coop nerds ann of Cte\\npaso seasrert ie re Pa X fauna te bases ert ane\\nGuest Atte\\nComplete the registration process.\\nNOTE: For Guest Access if you prefer not to register, see Guest eClosing Instructions included in this\\npackage. Guest Access does not provide access to the documents ahead of the closing and does not\\nprovide access to downloadable copies of closing documents for the Settlement Agent's post-closing\\nneeds. It is strongly recommended that the Settlement Agent register for a free Closing Center account\\nusing the Access Your Closing Center button.\\n3110502824\\nEOCLOSINGINSTRUCTIONS (08/19) Page 1 of 5\\n\\x0cMORTAGE\", 'a FAIRWAY | ; RESS\\nL} INDEPENDENT MORTGAGE CORPORATION\\n@ 4201 Marsh Lane Bw (877)626-5025 [XZ] support@eoriginal.com\\nCarrollton, TX 75007\\neCLOSING INSTRUCTIONS\\nSTEP 2: Once logged in to Closing Center, click +Add closing on the top right of the dashboard screen.\\n® Original Closing Center\\nGora sang Bytap sos ; i wopet LF aN\\nSTEP 3: Enter information exactly as it appears below (only Primary Borrower information needed):\\nAccess Code: 1671381410\\nLender Name: fairway\\nBorrower’s First Name: Elizabeth\\nBorrower’s Middle Name:\\nBorrower’s Last Name: Brown\\nBorrower’s Suffix:\\nBorrower’s Email Address: ebrownosu@gmail.com\\nAdd a closing\\nClick Save.\\nFile can now be found in the My Closings list in the Closing Center.\\n3110502824\\nEOCLOSINGINSTRUCTIONS (08/19) Page 2 of 5\\n\\x0cMORTAGE', 'a smear ore | GRE:\\n@ aoa raarsh htane wG (877)626-5025 [XX] suprort@eoriginalcom\\neCLOSING INSTRUCTIONS\\nSTEP 4: On Closing Day, GO TO this URL:\\nhttps://close.eoriginal.com/closing/ui/dashboard\\nClick the Access Your Closing Center button.\\nSign in using the credentials created when you registered for your Closing Center account.\\n—_*\\nLocate your file in the list on My Closings.\\nClick Start Closing.\\nHand-off the devise being used (Laptop, Tablet, etc.) to the borrower to begin signing.\\nRemind each borrower that their Security Code is\\nthe last four digits of their social security number.\\nLast refreshed: 8/20/2019.451 pmcoT © Refresh ,\\ntomo ne\\nClick on the link below for a Closing Center training video: |\\nhttps://vimeo.com/367266275 |\\n3110502824\\nSANTOR OH AOE ™\\n\\x0cMORTAGE']\n"
          ]
        }
      ]
    },
    {
      "cell_type": "code",
      "source": [
        "import re"
      ],
      "metadata": {
        "id": "McaW2T84hzU7"
      },
      "execution_count": null,
      "outputs": []
    },
    {
      "cell_type": "code",
      "source": [
        "def clean_text(txt):\n",
        "    try:\n",
        "      txt = \"\".join(t for t in txt if t not in string.punctuation).lower()\n",
        "      txt = txt.encode(\"utf8\").decode(\"ascii\",'ignore')\n",
        "      return txt\n",
        "    except:\n",
        "      return ''\n",
        "corpus = [clean_text(x) for x in all_headlines]\n",
        "corpus = list(filter(lambda x: x != '', corpus))\n",
        "\n",
        "# define the regular expression pattern to match digits, newlines, and non-printable characters\n",
        "pattern = r'[\\d\\n\\x00-\\x1f]'\n",
        "# iterate over the list and remove the matching characters from each string\n",
        "corpus = [re.sub(pattern, '', s) for s in corpus]\n",
        "# use a list comprehension to remove extra spaces from each string\n",
        "corpus = [' '.join(s.split()) for s in corpus]\n",
        "print(corpus[:10])"
      ],
      "metadata": {
        "colab": {
          "base_uri": "https://localhost:8080/"
        },
        "id": "EBk-6mDFbN7l",
        "outputId": "a4a1aa66-2c46-4165-d768-1d38e6aad959"
      },
      "execution_count": null,
      "outputs": [
        {
          "output_type": "stream",
          "name": "stdout",
          "text": [
            "['had donfield city abstract l lbs of bash aonon avec dw ship toguaranteed rate inc west cuyler avenuesuite wchicago il avrn il o py thy billing ppxol nv mortage', 're epee o pncbad i c oe g pnc bank national association no cashiers check philadelphia pa paterebrurry la drepay to the seri neers ny preorperof lilt abstralt loethirty owe thousand five mindred taree gn jre poe semeeliza mh stast t te oremitter os p q vas ociation y meaesc set c officinwoooasgm o cu simortage', 'g varanteed aclosing and funding instructions from guaranteed rate inc guaranteed rate loan number primary borrower last name stasi primary borrower first name elizaproperty street address marne ave city haddonfieldstate zip new jersey loan amount document date february loan type conventional closing date eebruary product all fixed loans disbursement february loan term months order number cahdinterest rate escrow number cahd order number jjguaranteed rate closer angela allen phone number fax number email address angelaallenratecomexecution of documents each borrower must sign all documents exactly as his or her name appears on the blank line provided for his or hersignature you must witness all signatures all signature acknowledgments must be executed by a person authorizedto take acknowledgments in the state of closing for the purposes of this instruction you means the settlement agentaltorney or escrow agent and may include an independent contractor providing services for you for the purposes ofwitnessingnotarizing signatures you must warrant all work conducted by any individual providing services on yourbehalf and hereby agree to indemnify defend and hold guaranteed rate harmless against wrongdoing committed by suchindividualentity flash close gri requires you to witness all ink sign documents any correction to loan documents must be approved in writing by us in advance no whiteout permitted approveddeletions should be made by marking a single line through the language being deleted all additions and deletions mustbe initialed by all borrowers all powers of attorney must be provided to and approved by us in advance if approved the power of attorney mustbe recorded in the same county in which the security instrument is recorded and a certified copy provided to usgeneral closing requirementsdisbursements to the seller side of the closing disclosureany disbursement on the seller s side of the closing disclosure greater than not lien related as documented in themarked up preliminary title commitment or for standard closing costs must be documented in writing by the seller andapproved by the guaranteed rate underwriter real estate commissions not to exceed standard commission rate in market areaor no more than of purchase price any payout that is not reflected on the closing disclosure is not permittedpurchase price on the closing disclosure cannot be different from loan approval or sales contract if the sales price is differentfrom what is noted on the closing disclosure furnished by guaranteed rate the borrowers approval is no longer valid andmust be reapproved by guaranteed raterescissionno borrower or other person having an ownership interest in the security property may modify or waive his or her right torescind without our prior written consent if any borrower or other person having an ownership interest in the security propertyindicates that he or she wishes to cancel this transaction you are required to contact us immediately for further instructionsclosing and funding tnstructions hybrid loans cfihlcst page of docmagicmortage', 'certified copy and original closing disclosureyou must use the closing disclosure provided by guaranteed rate any changes or corrections must be approved byguaranteed rate closing disclosures completed by the agent will not be accepted fax or email the certified copy of the finalclosing disclosure to the guaranteed rate closer the same day as closingdisbursement in escrow states return the original final closing disclosure with the closing package within business day of closing disbursement in escrow states flash close borrower may esign final lender cd gri closer will forward final signed lender cd to the settlement agent anychanges at the table will require a new final cd to be inksigned surveya valid survey dated within days of closing is required in areas where surveys are customary the survey must contain allrelevant and customary information and certifications and the legal description lot size and street must agree with the appraisaland closing documentsinsurance coverage title insurance title insurance coverage and vesting must be written under the same terms and conditions as the markedup preliminary title commitment or preliminary report previously provided o guaranteed rate this loan mustrecord in first lien position unless otherwise stated on or prior to the disbursement date the title policy must containthe endorsements as shown in the marked up preliminary title commitment or preliminary report previouslyprovided to guaranteed rate the alta title policy must be free from liens encumbrances easements encroachmentsand other title matters except i the lien of our loan in the amount of our joan on the property described herein showingthe instrument or document number and the date of recording of the security instrument ii general specific statecounty city school or other taxes and assessments not yet due or payable and iii other items as noted in theguaranteed rate funding requirements worksheet title policy must contain the following endorsementscomp epa loctitle policy must contain the following endorsements on every loan comprehensive compalta fl form environmental epaepl location for purchases but can be removed if we have a survey condo or pud thefollowing property type endorsements are required if there is a matching rider pud alta condo alta leasehold alta or manufactured housing alta arm alta endorsements are requiredis the product is an armadjustable rate mortgage and has an arm rider properties in texas require a tendorsement without deletions loss payeemortgagee clause for all required insurance to read guaranteed rate isaqa attn servicing dept north ravenswood chicago il payoff requirements if applicableit is a condition to the funding of this loan that the following payoffs be made through this closingproof of payoff must be shown on the closing disclosure and the attached disbursement sheet any other proof will requireseview by our underwriter and may delay closing and funding settlement agent cannot rely on approximate numbers abovefor payoff settlement agent must refer to attached payoff statements from lenders for the proper calculation of the payoffamountsfunding conditionsall of the instructions and conditions set forth herein must be correctly completed and this agreement signed by all relevantparties prior to requesting any funding authorization from guaranteed ratefax or email the preliminary closing disclosure to the guaranteed rate closer shown on page for our approval uponapproval of the preliminary closing disclosure guaranteed rate will email the final cd for the borrowers review andsignature the preliminary cd must reflect all fees that will be on the final cd if fees are added or removed from thepreliminary closing disclosure a new cd will need to be generated and it will cause a delay in fundingdelivery of closing package to borrowers and to guaranteed rate one copy of the signed closing package is required to be provided to and received by the borrowers on the sameday as the funding of the loan on loans subject to the right to cancel one copy of the signed closing packageincluding two signed copies of the notice of right to cancel is required to be provided to and received by theborrowers on the same day as the signing of the documents in the closing package flash close settlement agent toprovide only ink signed copies to borrower on the same day as funding of the loan if the transaction is subject to rescission provide each borrower and each person having any ownership interest in theproperty as noted on the rescission notice including any nontitled spouse if applicable with two copies of thecompleted notice of right to cancel and closing disclosure the notice of right to cancel must be properly completedincluding all dates and each borrower and person given two notices must execute an acknowledgment of receipt yourglosing and funding instructions hybrid loans page of docmagicnemortage', 'failure to properly complete and provide the notices of right to cancel to each person entitled to receive them will delaythis closing and will subject you to any and all liability whether present or future stemming from such failure all documents with the exception of those to be recorded security instrument riders corporation assignments grantdeed quit claim power of attorney etc must be returned via overnight mail or via same day courier service toflash close ink signed documents to be overnighted or returned via same day courier service toguaranteed rate inc w cuyler avenue suite wchicago ilwithin business day of the signingyou understand that any delay in returning the abovementioned documents in the time proscribed may result in actualfees and expense imposed upon guaranteed rate by a third party you acknowledge that you will be liable for all actualcostslosses incurred as a result of your failure to return the documents within the time proscribed we require certifiedcopies of all documents that are to be recorded you must attach the legal description to all recordable documentscontact guaranteed rate for funding authorizationcontact the guaranteed rate closer for the funding authorization number prior to disbursement of funds guaranteed rates wire cutoff time is pm noon central standard time you are not authorized to disburse funds withoutguaranteed rate providing you with our funding number for this transaction if this loan disburses without guaranteed rate sauthorization you agree to pay actual costslosses incurred by guaranteed rate which could be up to or exceed the amounts of the loans involved in this transaction enter the guaranteed rate funding authorization you received herein the event of a closing cancellation where funds must be returned toguaranteed rateplease contact your guaranteed rate closer via phone and verify return wire instructions prior to sending funds back toguaranteed rate this step must be completed for fraud prevention purposesadditional representations and warranties all duties and obligations detailed in this agreement are specifically and solely the responsibility of the settlement agentand cannot be performed by or assigned to any other individual or entity without the prior written consent ofguaranteed rate by signing below you represent and warrant that you currently have the authority to act in this capacity by all partiesto the transaction including but not limited to the national title insurance underwriter identified in the previouslysubmitted title commitment or preliminary report and closing protection letter by signing below you represent and warrant that all duties and obligations described herein and any supplementalclosing instructions have been faithfully and fully performed and satisfied by you should you fail to fully perform orsatisfy any duties and obligations stated herein you will be responsible for any and all liability loss damages orotherwise resulting from or in any way related to such failure notwithstanding the foregoing you shail not be liablefor any special exemplary consequential or punitive damages no amount of subsequent review or due diligenceconducted by guaranteed rate the borrower or any other party will relieve you from your duties and obligationsdetailed in these and any supplemental closing instructions or excuse you from any liability associated with your failureto fully comply with and satisfy your duties and obligations this agreement shall be governed and construed in accordance with the laws of the state of illinois without regard tothe conflicts of law provisions thereof by executing this agreement you hereby irrevocably submit to the exclusivejurisdiction of the courts of the state of illinois and federal courts located in cook county illinois for the purposesof any action or proceeding arising with respect to this agreement furthermore in the event of litigation the partiesagree to unconditionally waive their rights to a jury trial and this agreement may be filed as a written consent to suchwaiver of a trial by jury in any litigation arbitration or other proceeding by which one party either seeks to enforce its rights under thisagreement whether in contract tort or both or seeks a declaration of any rights or obligations under this agreementthe prevailing party shall be awarded is reasonable attorneys fees and costs and expenses incurredcontract agreementby your signature on this document you hereby agree that this represents a contractual agreement by and between you andguaranteed rate for the purposes of this agreement you means the settlement agent attorney or escrow agent and mayinclude an independent contractor providing services for you for the purposes of witnessingnotarizing signatures you herebyacknowledge that the duties owed to guaranteed rate pursuant to this agreement are fiduciary in nature you herebyacknowledge that you are acting as the settlement agent for guaranteed rate and as such you are responsible for faithfullyperforming and warranting all of the duties described herein you are responsible for insuring the compliance with allinstructions provided in this agreementglosing and funding instructions hybrid loans page of docmagicmortage', 'this loanmust not be closed or funded unless all conditions in this closing and funding instructions and anysupplemental closing instructions have been satisfied and funding authorization has been provided by guaranteed rate donot close or fund this loan if you have knowledge of a prior concurrent or subsequent transaction which would transfer titleto the subject property or create additional liens on this property not previously disclosed on the title commitment orpreliminary report flash close gri closer to confirm esign portion has been completed prior to authorizing disbursementas the closing agent you are hereby notified the funds you receive were advanced from a warehouse bank for the abovereferenced loan and the warehouse bank has a security interest in the promissory note deed of trust or mortgage and all othersupporting documents in the event the loan does not close or record within business hours of receipt of the wire all funds shall be rejectedreturned immediately back to the respective warehouse bank from which funds were sent guaranteed ratemust be notified immediately to issue written wire instructions for return of the funds to the appropriate warehouse bankfor california transactions state regulations prohibit prepaid interest paid by the borrowers until you have disbursed themajority of the funds retated to this loan furthermore state regulations and guaranteed rate require that the majority of fundsbe disbursed within one business day of guaranteed rate providing funding authorization guaranteed rate requires thatwritten proof of the date that the majority of funds are disbursed should those funds not be disbursed within one businessday of our funding authorization you agree to you agree to pay actual coststosses incurred by guaranteed rate that resultfrom a delay in the disbursement of funds further if the disbursement does not occur until after a weekend andor holidayand prepaid interest was paid by the borrowers during the weekend andor holiday you will have obtained the borrowers written approval on the california per diem disclosure if you did not obtain written authorization on the california perdiem disclosure from the borrowers you ugree to a pay guaranteed rate the full amount of unauthorized prepaid interestcharges paid by the borrowers so that guaranteed rate may provide the required refundattention notariesthe notary is responsible for ensuring that the dates counties and states are correct in each notary acknowledgment thispackage may contain documents with notary dates states and counties prepopulated if the borrower signs on a day or in aplace that contradicts the preprinted information it is the notarys responsibility to cross out the printed information writein the correct information and initial the changeguaranteed rate will invoice for any shortages caused by incorrect notary information shortages may include but arenot limited to rerecording fees mobile notary fees for borrower reatknowledgment warchouse bank curtailments investor lock extensionsyou must follow these instructions exactly as they are writtenthese closing and funding instructions can only be modified by a written instrument prepared and signed by guaranteed ratesettlement agent acknowledgmentby signing below i represent and warrant that all duties and obligations described herein and any supplemental closinginstructions have been faithfully and fully performed and satisfied in the event that guaranteed rate provides fundingauthorization for this loan such authorization will be subject to and in reliance upon my representations and warrantiescontained hereinacknowledged and agreed cejeerrmareme mave z wholtmmo wecwn dl oo aesettlement agent first and last name must print legiblyrureer y wi rotlarn phis feesettlement agent signature dateclosing and funding instructions hybrid loans icfihlcst page of docmagicmortage', 'iey cee as orfaddonaiad nj dwt ss hhip ehoassssfairway independent mortgage corpor marsh lanecarrollton tx mae tx aa ete tyeswat sey heoe re oh oot xbilling ppreference no cahd esexol nv a mortage', 'a independent mortgage corporationomen gre marsh lane wg supporteoriginalcomcarrollton tx eclosing instructionsthese eclosing instructions are incorporated into and shall be deemed to amend and supplement thespecific and general closing instructions the note andor most closing documents in this loantransaction will be executed electronically by the borrowers in a secure digital environment eclosing andall the remainder of the closing documents will be printed to paper and wetsigned as per usualplease follow the steps outlined below to begin the eclosingstep go to this url in advance of the closing datehttpscloseeoriginalcomclosinguiwelcomefairwaylogin or register for a free closing center account using the access your closing center buttonm pat o few simple steps yout not only be on your wey bo tacking and meneginy oll of your digitel dusires butako dalvaring a better borrowing enperiante for freeaccess your personalized guest accessclosing centervs seteumy cretes vy spe esquevo vo resvy com poe aus contal az ewan aceduncan meses ol al pr tote cone wet erarerage a yoo hgad heresa wore st oad tg ewen coop nerds ann of ctepaso seasrert ie re pa x fauna te bases ert aneguest attecomplete the registration processnote for guest access if you prefer not to register see guest eclosing instructions included in thispackage guest access does not provide access to the documents ahead of the closing and does notprovide access to downloadable copies of closing documents for the settlement agents postclosingneeds it is strongly recommended that the settlement agent register for a free closing center accountusing the access your closing center buttoneoclosinginstructions page of mortage', 'a fairway ressl independent mortgage corporation marsh lane bw xz supporteoriginalcomcarrollton tx eclosing instructionsstep once logged in to closing center click add closing on the top right of the dashboard screen original closing centergora sang bytap sos i wopet lf anstep enter information exactly as it appears below only primary borrower information neededaccess code lender name fairwayborrowers first name elizabethborrowers middle nameborrowers last name brownborrowers suffixborrowers email address ebrownosugmailcomadd a closingclick savefile can now be found in the my closings list in the closing centereoclosinginstructions page of mortage', 'a smear ore gre aoa raarsh htane wg xx suprorteoriginalcomeclosing instructionsstep on closing day go to this urlhttpscloseeoriginalcomclosinguidashboardclick the access your closing center buttonsign in using the credentials created when you registered for your closing center accountlocate your file in the list on my closingsclick start closinghandoff the devise being used laptop tablet etc to the borrower to begin signingremind each borrower that their security code isthe last four digits of their social security numberlast refreshed pmcot refresh tomo neclick on the link below for a closing center training video httpsvimeocom santor oh aoe mortage']\n"
          ]
        }
      ]
    },
    {
      "cell_type": "code",
      "source": [
        "tokenizer = Tokenizer()\n",
        "def get_sequence_of_tokens(corpus):\n",
        "    ## tokenization\n",
        "    tokenizer.fit_on_texts(corpus)\n",
        "    total_words = len(tokenizer.word_index) + 1\n",
        "    \n",
        "    ## convert data to a token sequence \n",
        "    input_sequences = []\n",
        "    for line in corpus:\n",
        "        token_list = tokenizer.texts_to_sequences([line])[0]\n",
        "        for i in range(1, len(token_list)):\n",
        "            n_gram_sequence = token_list[:i+1]\n",
        "            input_sequences.append(n_gram_sequence)\n",
        "    return input_sequences, total_words\n",
        "inp_sequences, total_words = get_sequence_of_tokens(corpus)\n",
        "print(inp_sequences[:10])"
      ],
      "metadata": {
        "colab": {
          "base_uri": "https://localhost:8080/"
        },
        "id": "tskXyUk-bWYd",
        "outputId": "c5cffadf-5acc-459c-9aa3-a66446e47c09"
      },
      "execution_count": null,
      "outputs": [
        {
          "output_type": "stream",
          "name": "stdout",
          "text": [
            "[[1539, 7973], [1539, 7973, 74], [1539, 7973, 74, 93], [1539, 7973, 74, 93, 363], [1539, 7973, 74, 93, 363, 399], [1539, 7973, 74, 93, 363, 399, 3], [1539, 7973, 74, 93, 363, 399, 3, 7974], [1539, 7973, 74, 93, 363, 399, 3, 7974, 7975], [1539, 7973, 74, 93, 363, 399, 3, 7974, 7975, 7976], [1539, 7973, 74, 93, 363, 399, 3, 7974, 7975, 7976, 1645]]\n"
          ]
        }
      ]
    },
    {
      "cell_type": "code",
      "source": [
        "def generate_padded_sequences(input_sequences):\n",
        "    max_sequence_len = max([len(x) for x in input_sequences])\n",
        "    input_sequences = np.array(pad_sequences(input_sequences, maxlen=max_sequence_len, padding='pre'))\n",
        "    \n",
        "    predictors, label = input_sequences[:,:-1],input_sequences[:,-1]\n",
        "    label = ku.to_categorical(label, num_classes=total_words)\n",
        "    return predictors, label, max_sequence_len"
      ],
      "metadata": {
        "id": "9XYL5PFObmgr"
      },
      "execution_count": null,
      "outputs": []
    },
    {
      "cell_type": "code",
      "source": [
        "predictors, label, max_sequence_len = generate_padded_sequences(inp_sequences)"
      ],
      "metadata": {
        "id": "cCUR4B_pc6sb"
      },
      "execution_count": null,
      "outputs": []
    },
    {
      "cell_type": "code",
      "source": [
        "max_sequence_len"
      ],
      "metadata": {
        "colab": {
          "base_uri": "https://localhost:8080/"
        },
        "id": "VUfhteLWdMAJ",
        "outputId": "44cbdd06-f180-4345-977f-0909ec9fc652"
      },
      "execution_count": null,
      "outputs": [
        {
          "output_type": "execute_result",
          "data": {
            "text/plain": [
              "972"
            ]
          },
          "metadata": {},
          "execution_count": 35
        }
      ]
    },
    {
      "cell_type": "code",
      "source": [
        "total_words"
      ],
      "metadata": {
        "colab": {
          "base_uri": "https://localhost:8080/"
        },
        "id": "m-VIB-68j6gq",
        "outputId": "a677892e-3642-423e-9821-174bd7866757"
      },
      "execution_count": null,
      "outputs": [
        {
          "output_type": "execute_result",
          "data": {
            "text/plain": [
              "20377"
            ]
          },
          "metadata": {},
          "execution_count": 36
        }
      ]
    },
    {
      "cell_type": "code",
      "source": [
        "def create_model(max_sequence_len, total_words):\n",
        "    input_len = max_sequence_len - 1\n",
        "    model = Sequential()\n",
        "    # ----------Add Input Embedding Layer\n",
        "    model.add(Embedding(total_words, 10, input_length=input_len))\n",
        "    # ----------Add Hidden Layer 1 - LSTM Layer\n",
        "    model.add(LSTM(100))\n",
        "    model.add(Dropout(0.1))\n",
        "    # ----------Add Output Layer\n",
        "    model.add(Dense(total_words, activation='softmax'))\n",
        "    model.compile(loss='categorical_crossentropy', optimizer='adam')\n",
        "    return model\n",
        "model = create_model(max_sequence_len, total_words)\n",
        "model.summary()"
      ],
      "metadata": {
        "colab": {
          "base_uri": "https://localhost:8080/"
        },
        "id": "Q1XIQp3Ab1be",
        "outputId": "82de3cdc-6b03-4204-9956-e4b7316dc2af"
      },
      "execution_count": null,
      "outputs": [
        {
          "output_type": "stream",
          "name": "stdout",
          "text": [
            "Model: \"sequential_2\"\n",
            "_________________________________________________________________\n",
            " Layer (type)                Output Shape              Param #   \n",
            "=================================================================\n",
            " embedding_2 (Embedding)     (None, 971, 10)           203770    \n",
            "                                                                 \n",
            " lstm_2 (LSTM)               (None, 100)               44400     \n",
            "                                                                 \n",
            " dropout_2 (Dropout)         (None, 100)               0         \n",
            "                                                                 \n",
            " dense_2 (Dense)             (None, 20377)             2058077   \n",
            "                                                                 \n",
            "=================================================================\n",
            "Total params: 2,306,247\n",
            "Trainable params: 2,306,247\n",
            "Non-trainable params: 0\n",
            "_________________________________________________________________\n"
          ]
        }
      ]
    },
    {
      "cell_type": "code",
      "source": [
        "model.fit(predictors, label, epochs=2, verbose=5)"
      ],
      "metadata": {
        "colab": {
          "base_uri": "https://localhost:8080/"
        },
        "id": "fp5Z9dS-b4Vx",
        "outputId": "9d18bd35-7515-4f83-bdfa-7b0b3dde1151"
      },
      "execution_count": null,
      "outputs": [
        {
          "output_type": "stream",
          "name": "stdout",
          "text": [
            "Epoch 1/2\n",
            "Epoch 2/2\n"
          ]
        },
        {
          "output_type": "execute_result",
          "data": {
            "text/plain": [
              "<keras.callbacks.History at 0x7f3ff94afb50>"
            ]
          },
          "metadata": {},
          "execution_count": 38
        }
      ]
    },
    {
      "cell_type": "code",
      "source": [
        "def generate_text(seed_text, next_words, model, max_sequence_len):\n",
        "    for _ in range(next_words):\n",
        "        token_list = tokenizer.texts_to_sequences([seed_text])[0]\n",
        "        token_list = pad_sequences([token_list],              maxlen=max_sequence_len-1, padding='pre')\n",
        "        # predicted = model.predict_classes(token_list, verbose=0)\n",
        "        # predict the classes of input data\n",
        "        probs = model.predict(token_list, verbose=0)\n",
        "        predicted = np.argmax(probs, axis=-1)\n",
        "        # print(predicted)\n",
        "        \n",
        "        output_word = \"\"\n",
        "        for word,index in tokenizer.word_index.items():\n",
        "            if index == predicted:\n",
        "                output_word = word\n",
        "                break\n",
        "        seed_text += \" ===>\"+output_word\n",
        "    return seed_text.title()"
      ],
      "metadata": {
        "id": "9SvcOimgdR12"
      },
      "execution_count": null,
      "outputs": []
    },
    {
      "cell_type": "code",
      "source": [
        "print (generate_text(\"had donfield city abstract l lbs of bash aonon avec dw ship toguaranteed rate inc west cuyler avenuesuite wchicago il avrn il o py thy billing ppxol nv mortage\", 1, model, max_sequence_len))\n",
        "print (generate_text(corpus[150], 1, model, max_sequence_len))\n",
        "print (generate_text(corpus[34], 1, model, max_sequence_len))\n",
        "print (generate_text(corpus[200], 1, model, max_sequence_len))\n",
        "print (generate_text(corpus[500], 1, model, max_sequence_len))\n",
        "# print (generate_text(\"science and technology\", 1, model, max_sequence_len))"
      ],
      "metadata": {
        "colab": {
          "base_uri": "https://localhost:8080/"
        },
        "id": "sXHJk0MhenTn",
        "outputId": "efba62d3-ec38-4f50-db91-bf924e2115b9"
      },
      "execution_count": null,
      "outputs": [
        {
          "output_type": "stream",
          "name": "stdout",
          "text": [
            "Had Donfield City Abstract L Lbs Of Bash Aonon Avec Dw Ship Toguaranteed Rate Inc West Cuyler Avenuesuite Wchicago Il Avrn Il O Py Thy Billing Ppxol Nv Mortage ===>Mortage\n",
            "Loan G Closing Feesthe Amounts Provided By Settlement Agent And Disclosed In The Closing Instructions Are Incorrectg Paymentsany Request For A Payment From Loan Proceeds Is Ambiguous Has Missing Or Incomplete Information Lacks A Clear Descriptionor Appears Unusual In Any Mannerg Concessions Incentives Contributions Commissionsa Concession Incentive Contribution Or Commission Which Exceeds The Values Shown In The Specific Closing Instructionswhether Monetary Or Nonmonetary Or Disclosed Or Not Disclosed In Any Sales Contract Or Escrow Instruction Provided Tolenderg Occupancythe Loan Is Shown As Owneroccupied In The Specific Closing Instructions But Borrower Expresses An Intent To Not Occupy Thepropertyclosing Instructions Cius Page Of Bank Of America Naaoe Camasaergerspatek Neeeeemortage ===>Mortage\n",
            "Loan Additional Please Furnish The Followingitemsthe Executed Closing Package In All States Where The Short Form Is Acceptedclosing Final Title Policyfinal Title Policy Must Contain American Neighborhood Mortgage Acceptance Co Llc Isaoaatimano Abbreviations Are Acceptable And Must Be Sent Back To First American Mortgage Solutions On Behalf Of Anniemac Homemortgage Attn Final Document Department International Way Idaho Falls Id Within Days Of Closing Shortform Policies Are Acceptableclosingcd From Sale Of Previous Property Net Proceedsfully Executed Closing Disclosure For The Sale Of Ganttown Roadevidencing Net Proceeds Of At Least And Payoff Of Emm Closing Name Affidavitfully Executed Name Affidavit For The Following Names Jose L Cordon Jose Luis Cordon Nicole Acordon Nicole Alexis Cordonclosing Name Affidavit Fully Executed Name Affidavit For The Following Nameshold Harmless No Certificate Of Occupancyindemnification And Hold Harmless Agreement No Certificate Of Occupancymust Be Fully Executed At Settlement And Returned To The Lenderlegal Descriptionplease Insert Legal Description Prior To Recordingclosinginvoicesprovide Copies Of All Invoices For Any Charges Listed On The Seller Side Of The Closing Disclosure That Exceedclosing Pud Riderpud Rider To Be Fully Executed At Settlement And Recorded With The Mortgageclosing Pud Riderpud Rider To Be Fully Executed At Settlement And Recorded With The Mortgageclosing Endorsementsthe Following Endorsements To Be Applied And Issued On The Final Title Policyclosing Endorsementsthe Following Endorsements To Be Applied And Issued On The Final Title Policyclosing Cd Changesthe Loan Must Close With The Cd That Was Approved And Issued By The Closing Department The Closingagent Is Responsible To Communicate Any Changes Needed To The Cd After Approval Has Been Given By The Closing Departmentimmediately And Cannot Proceed With The Closing Until Anew Approved Cd Isissued By The Closing Departmentcopy Of Checktitle Agent To Provide Copy Of The Borrowers Funds To Close Check At Closing And Closerfunder To Confirm Thecheck Is From A Verified Bank Account That Was Reviewed By Uw To Determine The Borrower Had Sufficient Funds To Closeclosingfunds Wired Title Company Must Ensure Payoff Funds Are Wired By Xxxx On Xxxxclear Titlejudgmentstitle Must Be Clear Of All Liens And Judgments At Time Of Settlementclosing Clear Titletitle Must Be Clear Of All Liens And Judgments At Time Of Settlementclosing Packagewe Require All Closed Loan Packages Be Uploaded To The Secure Lender Portal Httpsmortgageapplicationnetdefaultaspx Within Hours Of Closing Please Only Send The Original Note With Addendums And Acertified Copy Of The Mortgagedeed Of Trust With All Riders To East Gate Drive Suite Mount Laurel Nj We Asktitle Companies Hold Onto The Original Closing Package Until Annie Mac Confirms Receipt Of The File Any Questions Can Bedirected To Our Post Closing Department Postclosinganniemaccom In The Event This Loan Does Not Close On The Date Indicated In These Instructions Or If The Loan Documentation Does Notconform To The Information Stated Herein Please Do Not Close The Loan Without Notifying The Office Of The Creditor Youshall Be Deemed To Have Accepted And To Be Bound By These Closing Instructions If You Fail To Notify Us To The Contrarywithin Hours Of Your Receipt Hereof Or If You Disburse Any Funds To Or For The Account Of The Borrowers I Icknowledge Receipt Of These Special Instructions And Agree To Be Bound By The Terms Contained Hereinsettlement Officer Dateice Mortgage Technology Inc Page Of Gemci O Gemci Clsuae Pm Pstmortage ===>Am\n",
            "Tnloan Prmg General Settlement Agent Instructionsrev Stop Read Thisby Signing These Instructions Andor Accepting Funds From Paramount Residential Mortgagecorporation Inc Prmg You Agree To Act As Our Agent For This Transaction These Instructionsare Binding Between You The Settlement Agent And Prmg These Instructions Must Be Scrupulouslyfollowed If You Have Questions About These Instructions Please Contact The Prmg Employee Notedin The Transaction Details From Area Above Failure To Follow These Instructions Will Be A Breachof Your Duty To Act As Prmgs Agent You Will Be Held Responsible For Any Outcome Resulting Fromthat Breach Of Your Dutyplease Deliver Executed Closing Documents Toparamount Residential Mortgage Group Incattn Post Closing Collateral Department Corona Pointe Court Suite Corona Ca Final Settlement Statement Please Email A Pdf Of The Final Settlement Statement Within Hours Of Closing To Shippingteamprmgnetthe Final Settlement Statement Must Clearly Be Marked Final And Be Signed By The Attorney Or Employee Of The Settlement Agent And Clearly Indicate The Disbursement Date And Clearly Indicate That The Final Settlement Statement Was Produced On Or After The Closing Dateyou Specifically Agree That If Prmg Does Not Receive The Final Settlement Statement Within Seven Days Of The Closing Or Funding Date As Applicable You Agree To Pay Prmg Per Day Until Prmg Receives The Final Settlement Statementwire Instructions Prmg Requires A Full And Complete Copy Of The Wire Instructions Which Includes The Receiving Banks Name Aba And Fullaccount Number And Account Holder Name The Account Number Must Be Complete And Accurate Wire Instructions Cannot Contain Handwritten Or Contain Visibly Edited Alterations Wires Will Not Be Released Until These Instructions Are Received And Confirmedby Prmgwire Instruction Confirmation In An Effort To Prevent Wire Fraud Prmg Will Call And Verbally Validate Wire Instructions When Called Byprmg Verbal Confirmation Must Be Done By An Authorized Representative At A Phone Number Registered To You The Settlement Agentupdated Payoffs You Explicitly Agree To Obtain Updated Payoff Information For All Existing Liens Secured By The Subject Property Which Willbe Paid Offpayoff Wire Instructions You Specifically Agree To Validate The Wire Instructions For Any Outgoing Wire By Contacting The Intended Recipientindicated On The Payoff Instructions You Further Agree To Validate The Contact Information Email Phone Number Using An Independent Sourcereturn Of Wire You Specifically Agree That If You Do Not Disburse Funds On This Transaction Within Hours Of Receipt Of Prmgs Fundingwire You Will Not Close This Transaction And Will Return The Wire You Expressly Agree That You Will Be Held Accountable For All Costs If The Disbursement Does Not Occur And The Wire Is Not Returned Within Hour Timeframerelated Transactions You Agree To Disclose Any And All Transactions Relating To The Borrower Andor Property Related To This Loan Transactiontime Of The Essence Prmgs Documents Are Date Sensitive And Must Be Signed On Or After The Note Date Indicated Above In These Instructions And Before The Disbursement Date The Date Substantially All Funds Are Distributed To The Borrower Or To Third Parties On Behalf Of Theborrower Documents May Be Signed And Dated On Or After The Noteclosing Date In Mail Away And Dry Funding Transactions So Long As Allclosing Documents Are Dated Prior To Disbursementno Counterparts Where Documents Indicate Multiple Parties Eg Borrowers Nonborrowing Spouses Etc These Parties Must Executethe Same Documents As Required Parties Must Not Execute Separate Packagesfirst Position Unless Otherwise Indicated Prmgs Security Interest Must Be In First Positionfinal Closing Disclosure Final Cd Prmg Must Approve The Final Cd In Writing You Agree You Will Not Disburse Any Funds Until You Haveconfirmed In Writing Prmgs Approval Of The Final Cd Note Once The Final Cd Is Approved In Writing By Prmg No Changes Or Alterations Toeither Borrowers Fees Or Sellers Fees Where Applicable Are Permitted Unless Prmg Once Again Approves These Changes In Writingpurchase Transaction Minimum Down Payment On Purchase Transactions Borrowers Must Have A Minimum Required Investment Down Payment Seller Credits Must Not Exceed Actual Costs And Must Not Lower Borrowers Required Minimum Investment Down Payment Ifyou Are Uncertain About The Borrowers Minimum Down Payment Please Contact Prmghomeowners Insurance A New Homeowners Insurance Policy Is Required And Must Be Paid At Closing Or Prmg Must Indicate Otherwisein Writingexecuted Loan Application Borrowers Must Sign And Initial Where Required The Final Loan Application Forms And A At Closingfinal Title Policy For Final Title Policies On All Loans Except Bond Or Dpa Loans You Expressly Agree To Email To Shippingleamprmgnet A Pdfcopy Of The Final Title Policy Within Days Of The Closing Date Noted Above For Final Title Policies On Bond And Dpa Loans You Specifically Agree Toice Mortgage Technology Inc Page Of Lgemci He Lgemci Clsit It Am Pstbemortage ===>Gemci\n",
            "E Any Refund Check Issued Foran Overcharge Of Recording Or Transfertax Fees Mustbe Provided To Nfm Within Daysof The Refund Please Be Sure The Checkreflec Ts What Fee The Refund Is Foreamortage ===>The\n"
          ]
        }
      ]
    },
    {
      "cell_type": "code",
      "source": [],
      "metadata": {
        "id": "un8wg_kZerao"
      },
      "execution_count": null,
      "outputs": []
    }
  ]
}