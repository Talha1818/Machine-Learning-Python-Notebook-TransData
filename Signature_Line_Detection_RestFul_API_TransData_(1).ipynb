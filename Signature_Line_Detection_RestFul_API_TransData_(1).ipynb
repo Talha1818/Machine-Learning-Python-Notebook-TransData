{
  "cells": [
    {
      "cell_type": "markdown",
      "metadata": {
        "id": "view-in-github",
        "colab_type": "text"
      },
      "source": [
        "<a href=\"https://colab.research.google.com/github/Talha1818/Machine-Learning-Python-Notebooks/blob/master/Signature_Line_Detection_RestFul_API_TransData_(1).ipynb\" target=\"_parent\"><img src=\"https://colab.research.google.com/assets/colab-badge.svg\" alt=\"Open In Colab\"/></a>"
      ]
    },
    {
      "cell_type": "code",
      "source": [
        "!pip install PyPDF4~=1.27.0\n",
        "!pip install pdf2image~=1.16.0\n",
        "!sudo apt install tesseract-ocr\n",
        "!pip install pytesseract\n",
        "!sudo apt-get install poppler-utils\n",
        "#!pip install paddleocr\n",
        "#!pip install paddlepaddle paddleocr\n",
        "#!pip install Pillow==9.0.0 --upgrade\n"
      ],
      "metadata": {
        "id": "APXsaG4Q7gNd",
        "colab": {
          "base_uri": "https://localhost:8080/"
        },
        "outputId": "5e945525-107f-4921-e3a4-a34db95e6fa6"
      },
      "id": "APXsaG4Q7gNd",
      "execution_count": null,
      "outputs": [
        {
          "output_type": "stream",
          "name": "stdout",
          "text": [
            "Looking in indexes: https://pypi.org/simple, https://us-python.pkg.dev/colab-wheels/public/simple/\n",
            "Collecting PyPDF4~=1.27.0\n",
            "  Downloading PyPDF4-1.27.0.tar.gz (63 kB)\n",
            "\u001b[2K     \u001b[90m━━━━━━━━━━━━━━━━━━━━━━━━━━━━━━━━━━━━━━━━\u001b[0m \u001b[32m63.9/63.9 kB\u001b[0m \u001b[31m4.4 MB/s\u001b[0m eta \u001b[36m0:00:00\u001b[0m\n",
            "\u001b[?25h  Preparing metadata (setup.py) ... \u001b[?25l\u001b[?25hdone\n",
            "Building wheels for collected packages: PyPDF4\n",
            "  Building wheel for PyPDF4 (setup.py) ... \u001b[?25l\u001b[?25hdone\n",
            "  Created wheel for PyPDF4: filename=PyPDF4-1.27.0-py3-none-any.whl size=61246 sha256=f5ad9590aec0ffccc04ab1dbcf879bb626ec233c586dc581af316b0144493bd1\n",
            "  Stored in directory: /root/.cache/pip/wheels/cd/0e/4a/e6f842a6035ccffff0dab29c39dd06c3427560a82783355a83\n",
            "Successfully built PyPDF4\n",
            "Installing collected packages: PyPDF4\n",
            "Successfully installed PyPDF4-1.27.0\n",
            "Looking in indexes: https://pypi.org/simple, https://us-python.pkg.dev/colab-wheels/public/simple/\n",
            "Collecting pdf2image~=1.16.0\n",
            "  Downloading pdf2image-1.16.3-py3-none-any.whl (11 kB)\n",
            "Requirement already satisfied: pillow in /usr/local/lib/python3.9/dist-packages (from pdf2image~=1.16.0) (8.4.0)\n",
            "Installing collected packages: pdf2image\n",
            "Successfully installed pdf2image-1.16.3\n",
            "Reading package lists... Done\n",
            "Building dependency tree       \n",
            "Reading state information... Done\n",
            "The following additional packages will be installed:\n",
            "  tesseract-ocr-eng tesseract-ocr-osd\n",
            "The following NEW packages will be installed:\n",
            "  tesseract-ocr tesseract-ocr-eng tesseract-ocr-osd\n",
            "0 upgraded, 3 newly installed, 0 to remove and 24 not upgraded.\n",
            "Need to get 4,850 kB of archives.\n",
            "After this operation, 16.3 MB of additional disk space will be used.\n",
            "Get:1 http://archive.ubuntu.com/ubuntu focal/universe amd64 tesseract-ocr-eng all 1:4.00~git30-7274cfa-1 [1,598 kB]\n",
            "Get:2 http://archive.ubuntu.com/ubuntu focal/universe amd64 tesseract-ocr-osd all 1:4.00~git30-7274cfa-1 [2,990 kB]\n",
            "Get:3 http://archive.ubuntu.com/ubuntu focal/universe amd64 tesseract-ocr amd64 4.1.1-2build2 [262 kB]\n",
            "Fetched 4,850 kB in 2s (2,834 kB/s)\n",
            "debconf: unable to initialize frontend: Dialog\n",
            "debconf: (No usable dialog-like program is installed, so the dialog based frontend cannot be used. at /usr/share/perl5/Debconf/FrontEnd/Dialog.pm line 76, <> line 3.)\n",
            "debconf: falling back to frontend: Readline\n",
            "debconf: unable to initialize frontend: Readline\n",
            "debconf: (This frontend requires a controlling tty.)\n",
            "debconf: falling back to frontend: Teletype\n",
            "dpkg-preconfigure: unable to re-open stdin: \n",
            "Selecting previously unselected package tesseract-ocr-eng.\n",
            "(Reading database ... 122349 files and directories currently installed.)\n",
            "Preparing to unpack .../tesseract-ocr-eng_1%3a4.00~git30-7274cfa-1_all.deb ...\n",
            "Unpacking tesseract-ocr-eng (1:4.00~git30-7274cfa-1) ...\n",
            "Selecting previously unselected package tesseract-ocr-osd.\n",
            "Preparing to unpack .../tesseract-ocr-osd_1%3a4.00~git30-7274cfa-1_all.deb ...\n",
            "Unpacking tesseract-ocr-osd (1:4.00~git30-7274cfa-1) ...\n",
            "Selecting previously unselected package tesseract-ocr.\n",
            "Preparing to unpack .../tesseract-ocr_4.1.1-2build2_amd64.deb ...\n",
            "Unpacking tesseract-ocr (4.1.1-2build2) ...\n",
            "Setting up tesseract-ocr-eng (1:4.00~git30-7274cfa-1) ...\n",
            "Setting up tesseract-ocr-osd (1:4.00~git30-7274cfa-1) ...\n",
            "Setting up tesseract-ocr (4.1.1-2build2) ...\n",
            "Processing triggers for man-db (2.9.1-1) ...\n",
            "Looking in indexes: https://pypi.org/simple, https://us-python.pkg.dev/colab-wheels/public/simple/\n",
            "Collecting pytesseract\n",
            "  Downloading pytesseract-0.3.10-py3-none-any.whl (14 kB)\n",
            "Requirement already satisfied: Pillow>=8.0.0 in /usr/local/lib/python3.9/dist-packages (from pytesseract) (8.4.0)\n",
            "Requirement already satisfied: packaging>=21.3 in /usr/local/lib/python3.9/dist-packages (from pytesseract) (23.0)\n",
            "Installing collected packages: pytesseract\n",
            "Successfully installed pytesseract-0.3.10\n",
            "Reading package lists... Done\n",
            "Building dependency tree       \n",
            "Reading state information... Done\n",
            "The following NEW packages will be installed:\n",
            "  poppler-utils\n",
            "0 upgraded, 1 newly installed, 0 to remove and 24 not upgraded.\n",
            "Need to get 174 kB of archives.\n",
            "After this operation, 754 kB of additional disk space will be used.\n",
            "Get:1 http://archive.ubuntu.com/ubuntu focal-updates/main amd64 poppler-utils amd64 0.86.1-0ubuntu1.1 [174 kB]\n",
            "Fetched 174 kB in 1s (211 kB/s)\n",
            "debconf: unable to initialize frontend: Dialog\n",
            "debconf: (No usable dialog-like program is installed, so the dialog based frontend cannot be used. at /usr/share/perl5/Debconf/FrontEnd/Dialog.pm line 76, <> line 1.)\n",
            "debconf: falling back to frontend: Readline\n",
            "debconf: unable to initialize frontend: Readline\n",
            "debconf: (This frontend requires a controlling tty.)\n",
            "debconf: falling back to frontend: Teletype\n",
            "dpkg-preconfigure: unable to re-open stdin: \n",
            "Selecting previously unselected package poppler-utils.\n",
            "(Reading database ... 122396 files and directories currently installed.)\n",
            "Preparing to unpack .../poppler-utils_0.86.1-0ubuntu1.1_amd64.deb ...\n",
            "Unpacking poppler-utils (0.86.1-0ubuntu1.1) ...\n",
            "Setting up poppler-utils (0.86.1-0ubuntu1.1) ...\n",
            "Processing triggers for man-db (2.9.1-1) ...\n"
          ]
        }
      ]
    },
    {
      "cell_type": "code",
      "execution_count": null,
      "id": "750509b8",
      "metadata": {
        "id": "750509b8"
      },
      "outputs": [],
      "source": [
        "import cv2\n",
        "import base64\n",
        "from PIL import Image\n",
        "from io import BytesIO\n",
        "import json\n",
        "import numpy as np\n",
        "import pytesseract"
      ]
    },
    {
      "cell_type": "code",
      "source": [
        "custom_config = r'-l eng --psm 6'\n",
        "def get_text_from_image_tessaract(image):        \n",
        "    page_text = \"\"\n",
        "    with BytesIO() as f:\n",
        "            page_text = pytesseract.image_to_string(image, \n",
        "                                                    config= custom_config)      \n",
        "    return page_text.strip()"
      ],
      "metadata": {
        "id": "73nOiUPF2nHx"
      },
      "id": "73nOiUPF2nHx",
      "execution_count": null,
      "outputs": []
    },
    {
      "cell_type": "code",
      "source": [
        "def lines_detection_from_image(img_path, min_length=10, max_length=30):\n",
        "    # Load image, convert to grayscale, Otsu's threshold\n",
        "    with open(img_path, \"rb\") as image_file:\n",
        "        data = base64.b64encode(image_file.read())\n",
        "\n",
        "    im = Image.open(BytesIO(base64.b64decode(data)))\n",
        "    image = np.asarray(im)\n",
        "\n",
        "    result = image.copy()\n",
        "    gray = cv2.cvtColor(image,cv2.COLOR_BGR2GRAY)\n",
        "    thresh = cv2.threshold(gray, 0, 255, cv2.THRESH_BINARY_INV + cv2.THRESH_OTSU)[1]\n",
        "\n",
        "    # Detect horizontal lines\n",
        "    horizontal_kernel = cv2.getStructuringElement(cv2.MORPH_RECT, (40,1))\n",
        "    detect_horizontal = cv2.morphologyEx(thresh, cv2.MORPH_OPEN, horizontal_kernel, iterations=2)\n",
        "    cnts = cv2.findContours(detect_horizontal, cv2.RETR_EXTERNAL, cv2.CHAIN_APPROX_SIMPLE)\n",
        "    cnts = cnts[0] if len(cnts) == 2 else cnts[1]\n",
        "    lines_dect = []\n",
        "\n",
        "    for c in cnts:\n",
        "        lines_dect.append(c)\n",
        "        cv2.drawContours(result, [c], -1, (255,0,0), 2) # draw contours\n",
        "    \n",
        "    coordinates_points = []\n",
        "    load_img = Image.open(img_path)\n",
        "    for i in lines_dect:\n",
        "        x,y,w,h = cv2.boundingRect(i) # getting rectangle coordinates from contours\n",
        "        \n",
        "        # Check if line length is within specified minimum and maximum length constraints\n",
        "        if w >= min_length and w <= max_length:\n",
        "            box = x-150,y,x+w,y+50 # box coordinates for cropping image\n",
        "            crop_img = load_img.crop(box) # cropping the image\n",
        "            text = get_text_from_image_tessaract(crop_img) # getting the text\n",
        "            \n",
        "            \n",
        "            line_length = w  # Length of the horizontal line in pixels\n",
        "            \n",
        "            line_coordinates = {\n",
        "                'coordinates':{\n",
        "                \"x\": x,\n",
        "                \"y\": y,\n",
        "                \"width\": w,\n",
        "                \"height\": h,\n",
        "                'text': text,\n",
        "                'length': line_length\n",
        "                }\n",
        "            }\n",
        "            coordinates_points.append(line_coordinates)\n",
        "    \n",
        "    return len(lines_dect), coordinates_points\n"
      ],
      "metadata": {
        "id": "unsnsrlSi2fN"
      },
      "id": "unsnsrlSi2fN",
      "execution_count": null,
      "outputs": []
    },
    {
      "cell_type": "code",
      "execution_count": null,
      "id": "83ea21f9",
      "metadata": {
        "id": "83ea21f9"
      },
      "outputs": [],
      "source": [
        "def REST_API(total_lines, coordinates):\n",
        "    json_response = {\n",
        "    'lines_count': total_lines,\n",
        "    'detection': coordinates,\n",
        "    # \"signature_type\": {\n",
        "    #     \"text\": {\n",
        "    #         \"signature\":'',\n",
        "    #         \"date\":''\n",
        "    #         }\n",
        "    #     }\n",
        "    }\n",
        "\n",
        "    json_response_ = json.dumps(json_response)\n",
        "    return json_response_"
      ]
    },
    {
      "cell_type": "code",
      "execution_count": null,
      "id": "a4c79250",
      "metadata": {
        "id": "a4c79250"
      },
      "outputs": [],
      "source": [
        "total_lines, coordinates = lines_detection_from_image('/content/signature-page-1.jpg', min_length=100, max_length=200)"
      ]
    },
    {
      "cell_type": "code",
      "execution_count": null,
      "id": "1e2f9257",
      "metadata": {
        "id": "1e2f9257",
        "outputId": "1c2b6507-7dad-4cb8-b7d5-ac737d28d6e4",
        "colab": {
          "base_uri": "https://localhost:8080/"
        }
      },
      "outputs": [
        {
          "output_type": "execute_result",
          "data": {
            "text/plain": [
              "{'lines_count': 17,\n",
              " 'detection': [{'coordinates': {'x': 1252,\n",
              "    'y': 1821,\n",
              "    'width': 184,\n",
              "    'height': 1,\n",
              "    'text': 'Date',\n",
              "    'length': 184}},\n",
              "  {'coordinates': {'x': 1252,\n",
              "    'y': 1667,\n",
              "    'width': 184,\n",
              "    'height': 2,\n",
              "    'text': 'Date',\n",
              "    'length': 184}},\n",
              "  {'coordinates': {'x': 1252,\n",
              "    'y': 1476,\n",
              "    'width': 184,\n",
              "    'height': 1,\n",
              "    'text': 'Date',\n",
              "    'length': 184}},\n",
              "  {'coordinates': {'x': 1252,\n",
              "    'y': 1246,\n",
              "    'width': 184,\n",
              "    'height': 1,\n",
              "    'text': 'Date',\n",
              "    'length': 184}},\n",
              "  {'coordinates': {'x': 1252,\n",
              "    'y': 1054,\n",
              "    'width': 184,\n",
              "    'height': 1,\n",
              "    'text': '- Date',\n",
              "    'length': 184}},\n",
              "  {'coordinates': {'x': 1252,\n",
              "    'y': 862,\n",
              "    'width': 184,\n",
              "    'height': 2,\n",
              "    'text': 'Date',\n",
              "    'length': 184}},\n",
              "  {'coordinates': {'x': 1252,\n",
              "    'y': 671,\n",
              "    'width': 184,\n",
              "    'height': 1,\n",
              "    'text': 'Date',\n",
              "    'length': 184}}]}"
            ]
          },
          "metadata": {},
          "execution_count": 30
        }
      ],
      "source": [
        "res = REST_API(total_lines, coordinates)\n",
        "json.loads(res)"
      ]
    },
    {
      "cell_type": "markdown",
      "source": [
        "## **Extracting Text**"
      ],
      "metadata": {
        "id": "svrQFag68_7v"
      },
      "id": "svrQFag68_7v"
    },
    {
      "cell_type": "code",
      "source": [
        "# IMAGE = '/content/document_page_z7QIGHs.png'\n",
        "# load_img = Image.open(IMAGE)\n",
        "# load_img"
      ],
      "metadata": {
        "id": "gFr83FTCZs3H"
      },
      "id": "gFr83FTCZs3H",
      "execution_count": null,
      "outputs": []
    },
    {
      "cell_type": "code",
      "source": [
        "# x = coordinates[2]['coordinates']['x']\n",
        "# y = coordinates[2]['coordinates']['y']\n",
        "# w = coordinates[2]['coordinates']['width']\n",
        "# h = coordinates[2]['coordinates']['height']\n",
        "\n",
        "# box = x-150,y,x+w,y+50\n",
        "# box"
      ],
      "metadata": {
        "id": "AzNchX4a20PQ"
      },
      "id": "AzNchX4a20PQ",
      "execution_count": null,
      "outputs": []
    },
    {
      "cell_type": "code",
      "source": [
        "# import matplotlib.pyplot as plt"
      ],
      "metadata": {
        "id": "BSs7EFCGciGE"
      },
      "id": "BSs7EFCGciGE",
      "execution_count": null,
      "outputs": []
    },
    {
      "cell_type": "code",
      "source": [
        "# img = cv2.imread(\"/content/document_page_z7QIGHs.png\")\n",
        "# crop = img[y:y+50, x-150:x+w]\n",
        "# plt.imshow(crop, cmap='binary')\n",
        "# plt.show()"
      ],
      "metadata": {
        "id": "_3gTcnimcHpe"
      },
      "id": "_3gTcnimcHpe",
      "execution_count": null,
      "outputs": []
    },
    {
      "cell_type": "code",
      "source": [
        "# img = Image.open(IMAGE)\n",
        "# img2 = img.crop(box)\n",
        "# img2"
      ],
      "metadata": {
        "id": "Tzz-0tgC3GnM"
      },
      "id": "Tzz-0tgC3GnM",
      "execution_count": null,
      "outputs": []
    },
    {
      "cell_type": "code",
      "source": [
        "# text = get_text_from_image_tessaract(crop)\n",
        "# text"
      ],
      "metadata": {
        "id": "fMTJ97ZF31LG"
      },
      "id": "fMTJ97ZF31LG",
      "execution_count": null,
      "outputs": []
    },
    {
      "cell_type": "code",
      "source": [
        "# get_text_from_image_tessaract('r1.PNG')\n"
      ],
      "metadata": {
        "id": "Wuid3wapWvsz"
      },
      "id": "Wuid3wapWvsz",
      "execution_count": null,
      "outputs": []
    },
    {
      "cell_type": "code",
      "source": [
        "# get_text_from_image_tessaract('r2.PNG')\n"
      ],
      "metadata": {
        "id": "vC7K2NE5Xz3W"
      },
      "id": "vC7K2NE5Xz3W",
      "execution_count": null,
      "outputs": []
    },
    {
      "cell_type": "code",
      "source": [
        "# get_text_from_image_tessaract('r3.PNG')\n"
      ],
      "metadata": {
        "id": "JTM9f6DSXz5w"
      },
      "id": "JTM9f6DSXz5w",
      "execution_count": null,
      "outputs": []
    },
    {
      "cell_type": "code",
      "source": [
        "# get_text_from_image_tessaract('r4.PNG')\n"
      ],
      "metadata": {
        "id": "7imztIsEXz8E"
      },
      "id": "7imztIsEXz8E",
      "execution_count": null,
      "outputs": []
    },
    {
      "cell_type": "code",
      "source": [],
      "metadata": {
        "id": "aobbHgxKXz-R"
      },
      "id": "aobbHgxKXz-R",
      "execution_count": null,
      "outputs": []
    },
    {
      "cell_type": "code",
      "source": [],
      "metadata": {
        "id": "-dHmI1bYX0Ax"
      },
      "id": "-dHmI1bYX0Ax",
      "execution_count": null,
      "outputs": []
    }
  ],
  "metadata": {
    "kernelspec": {
      "display_name": "Python 3 (ipykernel)",
      "language": "python",
      "name": "python3"
    },
    "language_info": {
      "codemirror_mode": {
        "name": "ipython",
        "version": 3
      },
      "file_extension": ".py",
      "mimetype": "text/x-python",
      "name": "python",
      "nbconvert_exporter": "python",
      "pygments_lexer": "ipython3",
      "version": "3.9.13"
    },
    "colab": {
      "provenance": [],
      "include_colab_link": true
    }
  },
  "nbformat": 4,
  "nbformat_minor": 5
}